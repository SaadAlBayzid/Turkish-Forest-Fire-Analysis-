{
 "cells": [
  {
   "cell_type": "code",
   "execution_count": 2,
   "metadata": {
    "id": "NWD9wAxO-EZz"
   },
   "outputs": [],
   "source": [
    "import datetime as dt\n",
    "\n",
    "import pandas as pd\n",
    "import numpy as np\n",
    "import seaborn as sns\n",
    "import matplotlib.pyplot as plt\n",
    "%matplotlib inline \n",
    "\n",
    "from sklearn.model_selection import train_test_split\n",
    "from sklearn.metrics import accuracy_score, classification_report\n",
    "from sklearn.ensemble import RandomForestRegressor"
   ]
  },
  {
   "cell_type": "code",
   "execution_count": 3,
   "metadata": {
    "colab": {
     "base_uri": "https://localhost:8080/",
     "height": 206
    },
    "executionInfo": {
     "elapsed": 651,
     "status": "ok",
     "timestamp": 1624466626401,
     "user": {
      "displayName": "siddharth patra",
      "photoUrl": "https://lh3.googleusercontent.com/a-/AOh14Gjnwsdj5DKa95WHRl25dlQz9L1Bbc10vap4xTNIiA=s64",
      "userId": "01966341811263607507"
     },
     "user_tz": -330
    },
    "id": "ZK5KeZCT-TXm",
    "outputId": "30acc1f1-e3db-4d90-9578-ee1ef12a7b1a"
   },
   "outputs": [
    {
     "name": "stderr",
     "output_type": "stream",
     "text": [
      "C:\\python\\python382\\lib\\site-packages\\IPython\\core\\interactiveshell.py:3444: DtypeWarning: Columns (10) have mixed types.Specify dtype option on import or set low_memory=False.\n",
      "  exec(code_obj, self.user_global_ns, self.user_ns)\n"
     ]
    },
    {
     "data": {
      "text/html": [
       "<div>\n",
       "<style scoped>\n",
       "    .dataframe tbody tr th:only-of-type {\n",
       "        vertical-align: middle;\n",
       "    }\n",
       "\n",
       "    .dataframe tbody tr th {\n",
       "        vertical-align: top;\n",
       "    }\n",
       "\n",
       "    .dataframe thead th {\n",
       "        text-align: right;\n",
       "    }\n",
       "</style>\n",
       "<table border=\"1\" class=\"dataframe\">\n",
       "  <thead>\n",
       "    <tr style=\"text-align: right;\">\n",
       "      <th></th>\n",
       "      <th>latitude</th>\n",
       "      <th>longitude</th>\n",
       "      <th>brightness</th>\n",
       "      <th>scan</th>\n",
       "      <th>track</th>\n",
       "      <th>acq_date</th>\n",
       "      <th>acq_time</th>\n",
       "      <th>satellite</th>\n",
       "      <th>instrument</th>\n",
       "      <th>confidence</th>\n",
       "      <th>version</th>\n",
       "      <th>bright_t31</th>\n",
       "      <th>frp</th>\n",
       "      <th>daynight</th>\n",
       "      <th>type</th>\n",
       "    </tr>\n",
       "  </thead>\n",
       "  <tbody>\n",
       "    <tr>\n",
       "      <th>0</th>\n",
       "      <td>36.8527</td>\n",
       "      <td>35.3594</td>\n",
       "      <td>306.0</td>\n",
       "      <td>2.1</td>\n",
       "      <td>1.4</td>\n",
       "      <td>2000-11-01</td>\n",
       "      <td>815</td>\n",
       "      <td>Terra</td>\n",
       "      <td>MODIS</td>\n",
       "      <td>60</td>\n",
       "      <td>6.03</td>\n",
       "      <td>294.4</td>\n",
       "      <td>13.2</td>\n",
       "      <td>D</td>\n",
       "      <td>0.0</td>\n",
       "    </tr>\n",
       "    <tr>\n",
       "      <th>1</th>\n",
       "      <td>40.5441</td>\n",
       "      <td>35.1786</td>\n",
       "      <td>307.8</td>\n",
       "      <td>1.1</td>\n",
       "      <td>1.0</td>\n",
       "      <td>2000-11-02</td>\n",
       "      <td>857</td>\n",
       "      <td>Terra</td>\n",
       "      <td>MODIS</td>\n",
       "      <td>66</td>\n",
       "      <td>6.03</td>\n",
       "      <td>296.0</td>\n",
       "      <td>5.8</td>\n",
       "      <td>D</td>\n",
       "      <td>0.0</td>\n",
       "    </tr>\n",
       "    <tr>\n",
       "      <th>2</th>\n",
       "      <td>40.1473</td>\n",
       "      <td>35.0444</td>\n",
       "      <td>305.3</td>\n",
       "      <td>1.1</td>\n",
       "      <td>1.0</td>\n",
       "      <td>2000-11-02</td>\n",
       "      <td>857</td>\n",
       "      <td>Terra</td>\n",
       "      <td>MODIS</td>\n",
       "      <td>46</td>\n",
       "      <td>6.03</td>\n",
       "      <td>293.5</td>\n",
       "      <td>4.3</td>\n",
       "      <td>D</td>\n",
       "      <td>0.0</td>\n",
       "    </tr>\n",
       "    <tr>\n",
       "      <th>3</th>\n",
       "      <td>40.5421</td>\n",
       "      <td>35.1909</td>\n",
       "      <td>310.0</td>\n",
       "      <td>1.1</td>\n",
       "      <td>1.0</td>\n",
       "      <td>2000-11-02</td>\n",
       "      <td>857</td>\n",
       "      <td>Terra</td>\n",
       "      <td>MODIS</td>\n",
       "      <td>69</td>\n",
       "      <td>6.03</td>\n",
       "      <td>296.1</td>\n",
       "      <td>7.3</td>\n",
       "      <td>D</td>\n",
       "      <td>0.0</td>\n",
       "    </tr>\n",
       "    <tr>\n",
       "      <th>4</th>\n",
       "      <td>41.2569</td>\n",
       "      <td>31.4172</td>\n",
       "      <td>307.9</td>\n",
       "      <td>1.1</td>\n",
       "      <td>1.0</td>\n",
       "      <td>2000-11-02</td>\n",
       "      <td>857</td>\n",
       "      <td>Terra</td>\n",
       "      <td>MODIS</td>\n",
       "      <td>0</td>\n",
       "      <td>6.03</td>\n",
       "      <td>290.4</td>\n",
       "      <td>8.0</td>\n",
       "      <td>D</td>\n",
       "      <td>2.0</td>\n",
       "    </tr>\n",
       "  </tbody>\n",
       "</table>\n",
       "</div>"
      ],
      "text/plain": [
       "   latitude  longitude  brightness  scan  track    acq_date  acq_time  \\\n",
       "0   36.8527    35.3594       306.0   2.1    1.4  2000-11-01       815   \n",
       "1   40.5441    35.1786       307.8   1.1    1.0  2000-11-02       857   \n",
       "2   40.1473    35.0444       305.3   1.1    1.0  2000-11-02       857   \n",
       "3   40.5421    35.1909       310.0   1.1    1.0  2000-11-02       857   \n",
       "4   41.2569    31.4172       307.9   1.1    1.0  2000-11-02       857   \n",
       "\n",
       "  satellite instrument  confidence version  bright_t31   frp daynight  type  \n",
       "0     Terra      MODIS          60    6.03       294.4  13.2        D   0.0  \n",
       "1     Terra      MODIS          66    6.03       296.0   5.8        D   0.0  \n",
       "2     Terra      MODIS          46    6.03       293.5   4.3        D   0.0  \n",
       "3     Terra      MODIS          69    6.03       296.1   7.3        D   0.0  \n",
       "4     Terra      MODIS           0    6.03       290.4   8.0        D   2.0  "
      ]
     },
     "execution_count": 3,
     "metadata": {},
     "output_type": "execute_result"
    }
   ],
   "source": [
    "forest = pd.read_csv('turkey fire.csv')\n",
    "\n",
    "forest.head()"
   ]
  },
  {
   "cell_type": "code",
   "execution_count": 4,
   "metadata": {
    "colab": {
     "base_uri": "https://localhost:8080/"
    },
    "executionInfo": {
     "elapsed": 612,
     "status": "ok",
     "timestamp": 1624466629474,
     "user": {
      "displayName": "siddharth patra",
      "photoUrl": "https://lh3.googleusercontent.com/a-/AOh14Gjnwsdj5DKa95WHRl25dlQz9L1Bbc10vap4xTNIiA=s64",
      "userId": "01966341811263607507"
     },
     "user_tz": -330
    },
    "id": "xygeQDpT-eFZ",
    "outputId": "15632d97-37a4-4bd7-f632-6ddd0e0b3666"
   },
   "outputs": [
    {
     "data": {
      "text/plain": [
       "(211309, 15)"
      ]
     },
     "execution_count": 4,
     "metadata": {},
     "output_type": "execute_result"
    }
   ],
   "source": [
    "forest.shape"
   ]
  },
  {
   "cell_type": "code",
   "execution_count": 5,
   "metadata": {
    "colab": {
     "base_uri": "https://localhost:8080/"
    },
    "executionInfo": {
     "elapsed": 3,
     "status": "ok",
     "timestamp": 1624466630145,
     "user": {
      "displayName": "siddharth patra",
      "photoUrl": "https://lh3.googleusercontent.com/a-/AOh14Gjnwsdj5DKa95WHRl25dlQz9L1Bbc10vap4xTNIiA=s64",
      "userId": "01966341811263607507"
     },
     "user_tz": -330
    },
    "id": "O5shOy6rDX21",
    "outputId": "f5ff013e-f17c-44fc-ecd0-2725dca947dc"
   },
   "outputs": [
    {
     "data": {
      "text/plain": [
       "latitude         0\n",
       "longitude        0\n",
       "brightness       0\n",
       "scan             0\n",
       "track            0\n",
       "acq_date         0\n",
       "acq_time         0\n",
       "satellite        0\n",
       "instrument       0\n",
       "confidence       0\n",
       "version          0\n",
       "bright_t31       0\n",
       "frp              0\n",
       "daynight         0\n",
       "type          5391\n",
       "dtype: int64"
      ]
     },
     "execution_count": 5,
     "metadata": {},
     "output_type": "execute_result"
    }
   ],
   "source": [
    "forest.isnull().sum()"
   ]
  },
  {
   "cell_type": "code",
   "execution_count": 6,
   "metadata": {
    "colab": {
     "base_uri": "https://localhost:8080/",
     "height": 320
    },
    "executionInfo": {
     "elapsed": 11,
     "status": "ok",
     "timestamp": 1624466630554,
     "user": {
      "displayName": "siddharth patra",
      "photoUrl": "https://lh3.googleusercontent.com/a-/AOh14Gjnwsdj5DKa95WHRl25dlQz9L1Bbc10vap4xTNIiA=s64",
      "userId": "01966341811263607507"
     },
     "user_tz": -330
    },
    "id": "E10UcHhyGlqu",
    "outputId": "d2f8ddc7-7181-4a1a-8878-156ee6e28054"
   },
   "outputs": [
    {
     "data": {
      "text/html": [
       "<div>\n",
       "<style scoped>\n",
       "    .dataframe tbody tr th:only-of-type {\n",
       "        vertical-align: middle;\n",
       "    }\n",
       "\n",
       "    .dataframe tbody tr th {\n",
       "        vertical-align: top;\n",
       "    }\n",
       "\n",
       "    .dataframe thead th {\n",
       "        text-align: right;\n",
       "    }\n",
       "</style>\n",
       "<table border=\"1\" class=\"dataframe\">\n",
       "  <thead>\n",
       "    <tr style=\"text-align: right;\">\n",
       "      <th></th>\n",
       "      <th>latitude</th>\n",
       "      <th>longitude</th>\n",
       "      <th>brightness</th>\n",
       "      <th>scan</th>\n",
       "      <th>track</th>\n",
       "      <th>acq_time</th>\n",
       "      <th>confidence</th>\n",
       "      <th>bright_t31</th>\n",
       "      <th>frp</th>\n",
       "      <th>type</th>\n",
       "    </tr>\n",
       "  </thead>\n",
       "  <tbody>\n",
       "    <tr>\n",
       "      <th>count</th>\n",
       "      <td>211309.000000</td>\n",
       "      <td>211309.000000</td>\n",
       "      <td>211309.000000</td>\n",
       "      <td>211309.000000</td>\n",
       "      <td>211309.000000</td>\n",
       "      <td>211309.000000</td>\n",
       "      <td>211309.000000</td>\n",
       "      <td>211309.000000</td>\n",
       "      <td>211309.000000</td>\n",
       "      <td>205918.000000</td>\n",
       "    </tr>\n",
       "    <tr>\n",
       "      <th>mean</th>\n",
       "      <td>38.096869</td>\n",
       "      <td>35.810523</td>\n",
       "      <td>323.103487</td>\n",
       "      <td>1.519333</td>\n",
       "      <td>1.183241</td>\n",
       "      <td>1127.559252</td>\n",
       "      <td>66.453923</td>\n",
       "      <td>302.475387</td>\n",
       "      <td>30.341675</td>\n",
       "      <td>0.138798</td>\n",
       "    </tr>\n",
       "    <tr>\n",
       "      <th>std</th>\n",
       "      <td>1.259144</td>\n",
       "      <td>4.218867</td>\n",
       "      <td>15.710290</td>\n",
       "      <td>0.735847</td>\n",
       "      <td>0.228731</td>\n",
       "      <td>426.703297</td>\n",
       "      <td>19.297827</td>\n",
       "      <td>10.168149</td>\n",
       "      <td>67.171226</td>\n",
       "      <td>0.509481</td>\n",
       "    </tr>\n",
       "    <tr>\n",
       "      <th>min</th>\n",
       "      <td>35.822100</td>\n",
       "      <td>25.723600</td>\n",
       "      <td>300.000000</td>\n",
       "      <td>1.000000</td>\n",
       "      <td>1.000000</td>\n",
       "      <td>0.000000</td>\n",
       "      <td>0.000000</td>\n",
       "      <td>265.200000</td>\n",
       "      <td>0.000000</td>\n",
       "      <td>0.000000</td>\n",
       "    </tr>\n",
       "    <tr>\n",
       "      <th>25%</th>\n",
       "      <td>37.113200</td>\n",
       "      <td>33.037500</td>\n",
       "      <td>311.300000</td>\n",
       "      <td>1.000000</td>\n",
       "      <td>1.000000</td>\n",
       "      <td>845.000000</td>\n",
       "      <td>55.000000</td>\n",
       "      <td>294.100000</td>\n",
       "      <td>8.900000</td>\n",
       "      <td>0.000000</td>\n",
       "    </tr>\n",
       "    <tr>\n",
       "      <th>50%</th>\n",
       "      <td>37.711700</td>\n",
       "      <td>35.817400</td>\n",
       "      <td>322.100000</td>\n",
       "      <td>1.200000</td>\n",
       "      <td>1.100000</td>\n",
       "      <td>1024.000000</td>\n",
       "      <td>68.000000</td>\n",
       "      <td>302.800000</td>\n",
       "      <td>15.300000</td>\n",
       "      <td>0.000000</td>\n",
       "    </tr>\n",
       "    <tr>\n",
       "      <th>75%</th>\n",
       "      <td>38.931600</td>\n",
       "      <td>39.755500</td>\n",
       "      <td>331.300000</td>\n",
       "      <td>1.700000</td>\n",
       "      <td>1.300000</td>\n",
       "      <td>1110.000000</td>\n",
       "      <td>79.000000</td>\n",
       "      <td>310.000000</td>\n",
       "      <td>30.700000</td>\n",
       "      <td>0.000000</td>\n",
       "    </tr>\n",
       "    <tr>\n",
       "      <th>max</th>\n",
       "      <td>42.033000</td>\n",
       "      <td>44.796700</td>\n",
       "      <td>503.530000</td>\n",
       "      <td>4.820000</td>\n",
       "      <td>2.000000</td>\n",
       "      <td>2359.000000</td>\n",
       "      <td>100.000000</td>\n",
       "      <td>400.100000</td>\n",
       "      <td>4816.680000</td>\n",
       "      <td>3.000000</td>\n",
       "    </tr>\n",
       "  </tbody>\n",
       "</table>\n",
       "</div>"
      ],
      "text/plain": [
       "            latitude      longitude     brightness           scan  \\\n",
       "count  211309.000000  211309.000000  211309.000000  211309.000000   \n",
       "mean       38.096869      35.810523     323.103487       1.519333   \n",
       "std         1.259144       4.218867      15.710290       0.735847   \n",
       "min        35.822100      25.723600     300.000000       1.000000   \n",
       "25%        37.113200      33.037500     311.300000       1.000000   \n",
       "50%        37.711700      35.817400     322.100000       1.200000   \n",
       "75%        38.931600      39.755500     331.300000       1.700000   \n",
       "max        42.033000      44.796700     503.530000       4.820000   \n",
       "\n",
       "               track       acq_time     confidence     bright_t31  \\\n",
       "count  211309.000000  211309.000000  211309.000000  211309.000000   \n",
       "mean        1.183241    1127.559252      66.453923     302.475387   \n",
       "std         0.228731     426.703297      19.297827      10.168149   \n",
       "min         1.000000       0.000000       0.000000     265.200000   \n",
       "25%         1.000000     845.000000      55.000000     294.100000   \n",
       "50%         1.100000    1024.000000      68.000000     302.800000   \n",
       "75%         1.300000    1110.000000      79.000000     310.000000   \n",
       "max         2.000000    2359.000000     100.000000     400.100000   \n",
       "\n",
       "                 frp           type  \n",
       "count  211309.000000  205918.000000  \n",
       "mean       30.341675       0.138798  \n",
       "std        67.171226       0.509481  \n",
       "min         0.000000       0.000000  \n",
       "25%         8.900000       0.000000  \n",
       "50%        15.300000       0.000000  \n",
       "75%        30.700000       0.000000  \n",
       "max      4816.680000       3.000000  "
      ]
     },
     "execution_count": 6,
     "metadata": {},
     "output_type": "execute_result"
    }
   ],
   "source": [
    "forest.describe()"
   ]
  },
  {
   "cell_type": "code",
   "execution_count": 7,
   "metadata": {
    "colab": {
     "base_uri": "https://localhost:8080/",
     "height": 657
    },
    "executionInfo": {
     "elapsed": 2063,
     "status": "ok",
     "timestamp": 1624466632608,
     "user": {
      "displayName": "siddharth patra",
      "photoUrl": "https://lh3.googleusercontent.com/a-/AOh14Gjnwsdj5DKa95WHRl25dlQz9L1Bbc10vap4xTNIiA=s64",
      "userId": "01966341811263607507"
     },
     "user_tz": -330
    },
    "id": "WfpZ0WbDHXQF",
    "outputId": "1338af7f-2682-4dbb-a59b-9e3bec3b0d33"
   },
   "outputs": [
    {
     "data": {
      "text/plain": [
       "<AxesSubplot:>"
      ]
     },
     "execution_count": 7,
     "metadata": {},
     "output_type": "execute_result"
    },
    {
     "data": {
      "image/png": "[encoded data removed]",
      "text/plain": [
       "<Figure size 720x720 with 2 Axes>"
      ]
     },
     "metadata": {
      "needs_background": "light"
     },
     "output_type": "display_data"
    }
   ],
   "source": [
    "plt.figure(figsize=(10, 10))\n",
    "sns.heatmap(forest.corr(),annot=True,cmap='viridis',linewidths=.5)"
   ]
  },
  {
   "cell_type": "code",
   "execution_count": 8,
   "metadata": {
    "id": "cWnCHKAUHvcg"
   },
   "outputs": [],
   "source": [
    "forest = forest.drop(['track'], axis = 1)"
   ]
  },
  {
   "cell_type": "code",
   "execution_count": 9,
   "metadata": {
    "colab": {
     "base_uri": "https://localhost:8080/"
    },
    "executionInfo": {
     "elapsed": 10,
     "status": "ok",
     "timestamp": 1624466632609,
     "user": {
      "displayName": "siddharth patra",
      "photoUrl": "https://lh3.googleusercontent.com/a-/AOh14Gjnwsdj5DKa95WHRl25dlQz9L1Bbc10vap4xTNIiA=s64",
      "userId": "01966341811263607507"
     },
     "user_tz": -330
    },
    "id": "hOSBoB-q_cXe",
    "outputId": "77b88996-b6d6-4f60-a63d-47f85ee8137b"
   },
   "outputs": [
    {
     "name": "stdout",
     "output_type": "stream",
     "text": [
      "The scan column\n",
      "1.00    54586\n",
      "1.10    37680\n",
      "1.20    21611\n",
      "1.30    14000\n",
      "1.40    11215\n",
      "        ...  \n",
      "2.14        1\n",
      "3.97        1\n",
      "3.41        1\n",
      "3.02        1\n",
      "1.52        1\n",
      "Name: scan, Length: 248, dtype: int64\n",
      "\n",
      "The aqc_time column\n",
      "1048    3572\n",
      "839     3460\n",
      "1042    3317\n",
      "845     3234\n",
      "857     3194\n",
      "        ... \n",
      "1210       1\n",
      "43         1\n",
      "759        1\n",
      "2102       1\n",
      "1216       1\n",
      "Name: acq_time, Length: 577, dtype: int64\n",
      "\n",
      "The satellite column\n",
      "Terra    113554\n",
      "Aqua      97755\n",
      "Name: satellite, dtype: int64\n",
      "\n",
      "The instrument column\n",
      "MODIS    211309\n",
      "Name: instrument, dtype: int64\n",
      "\n",
      "The version column\n",
      "6.03      196608\n",
      "6.03        9310\n",
      "6.1NRT      5391\n",
      "Name: version, dtype: int64\n",
      "\n",
      "The daynight column\n",
      "D    173530\n",
      "N     37779\n",
      "Name: daynight, dtype: int64\n",
      "\n"
     ]
    }
   ],
   "source": [
    "\n",
    "print(\"The scan column\")\n",
    "print(forest['scan'].value_counts())\n",
    "print()\n",
    "print(\"The aqc_time column\")\n",
    "print(forest['acq_time'].value_counts())\n",
    "print()\n",
    "print(\"The satellite column\")\n",
    "print(forest['satellite'].value_counts())\n",
    "print()\n",
    "print(\"The instrument column\")\n",
    "print(forest['instrument'].value_counts())\n",
    "print()\n",
    "print(\"The version column\")\n",
    "print(forest['version'].value_counts())\n",
    "print()\n",
    "print(\"The daynight column\")\n",
    "print(forest['daynight'].value_counts())\n",
    "print()"
   ]
  },
  {
   "cell_type": "code",
   "execution_count": 10,
   "metadata": {
    "colab": {
     "base_uri": "https://localhost:8080/",
     "height": 206
    },
    "executionInfo": {
     "elapsed": 9,
     "status": "ok",
     "timestamp": 1624466633726,
     "user": {
      "displayName": "siddharth patra",
      "photoUrl": "https://lh3.googleusercontent.com/a-/AOh14Gjnwsdj5DKa95WHRl25dlQz9L1Bbc10vap4xTNIiA=s64",
      "userId": "01966341811263607507"
     },
     "user_tz": -330
    },
    "id": "sR_mx8WiBAcR",
    "outputId": "b5307fde-f5bb-43c6-b0cc-c3308ec0bbe4"
   },
   "outputs": [
    {
     "data": {
      "text/html": [
       "<div>\n",
       "<style scoped>\n",
       "    .dataframe tbody tr th:only-of-type {\n",
       "        vertical-align: middle;\n",
       "    }\n",
       "\n",
       "    .dataframe tbody tr th {\n",
       "        vertical-align: top;\n",
       "    }\n",
       "\n",
       "    .dataframe thead th {\n",
       "        text-align: right;\n",
       "    }\n",
       "</style>\n",
       "<table border=\"1\" class=\"dataframe\">\n",
       "  <thead>\n",
       "    <tr style=\"text-align: right;\">\n",
       "      <th></th>\n",
       "      <th>latitude</th>\n",
       "      <th>longitude</th>\n",
       "      <th>brightness</th>\n",
       "      <th>scan</th>\n",
       "      <th>acq_date</th>\n",
       "      <th>acq_time</th>\n",
       "      <th>satellite</th>\n",
       "      <th>confidence</th>\n",
       "      <th>bright_t31</th>\n",
       "      <th>frp</th>\n",
       "      <th>daynight</th>\n",
       "      <th>type</th>\n",
       "    </tr>\n",
       "  </thead>\n",
       "  <tbody>\n",
       "    <tr>\n",
       "      <th>0</th>\n",
       "      <td>36.8527</td>\n",
       "      <td>35.3594</td>\n",
       "      <td>306.0</td>\n",
       "      <td>2.1</td>\n",
       "      <td>2000-11-01</td>\n",
       "      <td>815</td>\n",
       "      <td>Terra</td>\n",
       "      <td>60</td>\n",
       "      <td>294.4</td>\n",
       "      <td>13.2</td>\n",
       "      <td>D</td>\n",
       "      <td>0.0</td>\n",
       "    </tr>\n",
       "    <tr>\n",
       "      <th>1</th>\n",
       "      <td>40.5441</td>\n",
       "      <td>35.1786</td>\n",
       "      <td>307.8</td>\n",
       "      <td>1.1</td>\n",
       "      <td>2000-11-02</td>\n",
       "      <td>857</td>\n",
       "      <td>Terra</td>\n",
       "      <td>66</td>\n",
       "      <td>296.0</td>\n",
       "      <td>5.8</td>\n",
       "      <td>D</td>\n",
       "      <td>0.0</td>\n",
       "    </tr>\n",
       "    <tr>\n",
       "      <th>2</th>\n",
       "      <td>40.1473</td>\n",
       "      <td>35.0444</td>\n",
       "      <td>305.3</td>\n",
       "      <td>1.1</td>\n",
       "      <td>2000-11-02</td>\n",
       "      <td>857</td>\n",
       "      <td>Terra</td>\n",
       "      <td>46</td>\n",
       "      <td>293.5</td>\n",
       "      <td>4.3</td>\n",
       "      <td>D</td>\n",
       "      <td>0.0</td>\n",
       "    </tr>\n",
       "    <tr>\n",
       "      <th>3</th>\n",
       "      <td>40.5421</td>\n",
       "      <td>35.1909</td>\n",
       "      <td>310.0</td>\n",
       "      <td>1.1</td>\n",
       "      <td>2000-11-02</td>\n",
       "      <td>857</td>\n",
       "      <td>Terra</td>\n",
       "      <td>69</td>\n",
       "      <td>296.1</td>\n",
       "      <td>7.3</td>\n",
       "      <td>D</td>\n",
       "      <td>0.0</td>\n",
       "    </tr>\n",
       "    <tr>\n",
       "      <th>4</th>\n",
       "      <td>41.2569</td>\n",
       "      <td>31.4172</td>\n",
       "      <td>307.9</td>\n",
       "      <td>1.1</td>\n",
       "      <td>2000-11-02</td>\n",
       "      <td>857</td>\n",
       "      <td>Terra</td>\n",
       "      <td>0</td>\n",
       "      <td>290.4</td>\n",
       "      <td>8.0</td>\n",
       "      <td>D</td>\n",
       "      <td>2.0</td>\n",
       "    </tr>\n",
       "  </tbody>\n",
       "</table>\n",
       "</div>"
      ],
      "text/plain": [
       "   latitude  longitude  brightness  scan    acq_date  acq_time satellite  \\\n",
       "0   36.8527    35.3594       306.0   2.1  2000-11-01       815     Terra   \n",
       "1   40.5441    35.1786       307.8   1.1  2000-11-02       857     Terra   \n",
       "2   40.1473    35.0444       305.3   1.1  2000-11-02       857     Terra   \n",
       "3   40.5421    35.1909       310.0   1.1  2000-11-02       857     Terra   \n",
       "4   41.2569    31.4172       307.9   1.1  2000-11-02       857     Terra   \n",
       "\n",
       "   confidence  bright_t31   frp daynight  type  \n",
       "0          60       294.4  13.2        D   0.0  \n",
       "1          66       296.0   5.8        D   0.0  \n",
       "2          46       293.5   4.3        D   0.0  \n",
       "3          69       296.1   7.3        D   0.0  \n",
       "4           0       290.4   8.0        D   2.0  "
      ]
     },
     "execution_count": 10,
     "metadata": {},
     "output_type": "execute_result"
    }
   ],
   "source": [
    "forest = forest.drop(['instrument', 'version'], axis = 1)\n",
    "\n",
    "forest.head()"
   ]
  },
  {
   "cell_type": "code",
   "execution_count": 11,
   "metadata": {
    "colab": {
     "base_uri": "https://localhost:8080/",
     "height": 206
    },
    "executionInfo": {
     "elapsed": 7,
     "status": "ok",
     "timestamp": 1624466633727,
     "user": {
      "displayName": "siddharth patra",
      "photoUrl": "https://lh3.googleusercontent.com/a-/AOh14Gjnwsdj5DKa95WHRl25dlQz9L1Bbc10vap4xTNIiA=s64",
      "userId": "01966341811263607507"
     },
     "user_tz": -330
    },
    "id": "KBjrkSQlDSqN",
    "outputId": "d5819e18-1d12-48b2-e78d-ecccba5dee4f"
   },
   "outputs": [
    {
     "data": {
      "text/html": [
       "<div>\n",
       "<style scoped>\n",
       "    .dataframe tbody tr th:only-of-type {\n",
       "        vertical-align: middle;\n",
       "    }\n",
       "\n",
       "    .dataframe tbody tr th {\n",
       "        vertical-align: top;\n",
       "    }\n",
       "\n",
       "    .dataframe thead th {\n",
       "        text-align: right;\n",
       "    }\n",
       "</style>\n",
       "<table border=\"1\" class=\"dataframe\">\n",
       "  <thead>\n",
       "    <tr style=\"text-align: right;\">\n",
       "      <th></th>\n",
       "      <th>latitude</th>\n",
       "      <th>longitude</th>\n",
       "      <th>brightness</th>\n",
       "      <th>scan</th>\n",
       "      <th>acq_date</th>\n",
       "      <th>acq_time</th>\n",
       "      <th>satellite</th>\n",
       "      <th>confidence</th>\n",
       "      <th>bright_t31</th>\n",
       "      <th>frp</th>\n",
       "      <th>daynight</th>\n",
       "      <th>type</th>\n",
       "    </tr>\n",
       "  </thead>\n",
       "  <tbody>\n",
       "    <tr>\n",
       "      <th>0</th>\n",
       "      <td>36.8527</td>\n",
       "      <td>35.3594</td>\n",
       "      <td>306.0</td>\n",
       "      <td>2.1</td>\n",
       "      <td>2000-11-01</td>\n",
       "      <td>815</td>\n",
       "      <td>1</td>\n",
       "      <td>60</td>\n",
       "      <td>294.4</td>\n",
       "      <td>13.2</td>\n",
       "      <td>1</td>\n",
       "      <td>0.0</td>\n",
       "    </tr>\n",
       "    <tr>\n",
       "      <th>1</th>\n",
       "      <td>40.5441</td>\n",
       "      <td>35.1786</td>\n",
       "      <td>307.8</td>\n",
       "      <td>1.1</td>\n",
       "      <td>2000-11-02</td>\n",
       "      <td>857</td>\n",
       "      <td>1</td>\n",
       "      <td>66</td>\n",
       "      <td>296.0</td>\n",
       "      <td>5.8</td>\n",
       "      <td>1</td>\n",
       "      <td>0.0</td>\n",
       "    </tr>\n",
       "    <tr>\n",
       "      <th>2</th>\n",
       "      <td>40.1473</td>\n",
       "      <td>35.0444</td>\n",
       "      <td>305.3</td>\n",
       "      <td>1.1</td>\n",
       "      <td>2000-11-02</td>\n",
       "      <td>857</td>\n",
       "      <td>1</td>\n",
       "      <td>46</td>\n",
       "      <td>293.5</td>\n",
       "      <td>4.3</td>\n",
       "      <td>1</td>\n",
       "      <td>0.0</td>\n",
       "    </tr>\n",
       "    <tr>\n",
       "      <th>3</th>\n",
       "      <td>40.5421</td>\n",
       "      <td>35.1909</td>\n",
       "      <td>310.0</td>\n",
       "      <td>1.1</td>\n",
       "      <td>2000-11-02</td>\n",
       "      <td>857</td>\n",
       "      <td>1</td>\n",
       "      <td>69</td>\n",
       "      <td>296.1</td>\n",
       "      <td>7.3</td>\n",
       "      <td>1</td>\n",
       "      <td>0.0</td>\n",
       "    </tr>\n",
       "    <tr>\n",
       "      <th>4</th>\n",
       "      <td>41.2569</td>\n",
       "      <td>31.4172</td>\n",
       "      <td>307.9</td>\n",
       "      <td>1.1</td>\n",
       "      <td>2000-11-02</td>\n",
       "      <td>857</td>\n",
       "      <td>1</td>\n",
       "      <td>0</td>\n",
       "      <td>290.4</td>\n",
       "      <td>8.0</td>\n",
       "      <td>1</td>\n",
       "      <td>2.0</td>\n",
       "    </tr>\n",
       "  </tbody>\n",
       "</table>\n",
       "</div>"
      ],
      "text/plain": [
       "   latitude  longitude  brightness  scan    acq_date  acq_time  satellite  \\\n",
       "0   36.8527    35.3594       306.0   2.1  2000-11-01       815          1   \n",
       "1   40.5441    35.1786       307.8   1.1  2000-11-02       857          1   \n",
       "2   40.1473    35.0444       305.3   1.1  2000-11-02       857          1   \n",
       "3   40.5421    35.1909       310.0   1.1  2000-11-02       857          1   \n",
       "4   41.2569    31.4172       307.9   1.1  2000-11-02       857          1   \n",
       "\n",
       "   confidence  bright_t31   frp  daynight  type  \n",
       "0          60       294.4  13.2         1   0.0  \n",
       "1          66       296.0   5.8         1   0.0  \n",
       "2          46       293.5   4.3         1   0.0  \n",
       "3          69       296.1   7.3         1   0.0  \n",
       "4           0       290.4   8.0         1   2.0  "
      ]
     },
     "execution_count": 11,
     "metadata": {},
     "output_type": "execute_result"
    }
   ],
   "source": [
    "daynight_map = {\"D\": 1, \"N\": 0}\n",
    "satellite_map = {\"Terra\": 1, \"Aqua\": 0}\n",
    "\n",
    "forest['daynight'] = forest['daynight'].map(daynight_map)\n",
    "forest['satellite'] = forest['satellite'].map(satellite_map)\n",
    "\n",
    "forest.head()"
   ]
  },
  {
   "cell_type": "code",
   "execution_count": 12,
   "metadata": {
    "colab": {
     "base_uri": "https://localhost:8080/"
    },
    "executionInfo": {
     "elapsed": 14,
     "status": "ok",
     "timestamp": 1624466634395,
     "user": {
      "displayName": "siddharth patra",
      "photoUrl": "https://lh3.googleusercontent.com/a-/AOh14Gjnwsdj5DKa95WHRl25dlQz9L1Bbc10vap4xTNIiA=s64",
      "userId": "01966341811263607507"
     },
     "user_tz": -330
    },
    "id": "UdGTmFhfESJg",
    "outputId": "887f3074-6639-44a2-a7f9-adac7e9edb5e"
   },
   "outputs": [
    {
     "data": {
      "text/plain": [
       "0.0    191670\n",
       "2.0     14163\n",
       "3.0        85\n",
       "Name: type, dtype: int64"
      ]
     },
     "execution_count": 12,
     "metadata": {},
     "output_type": "execute_result"
    }
   ],
   "source": [
    "\n",
    "forest['type'].value_counts()"
   ]
  },
  {
   "cell_type": "code",
   "execution_count": 13,
   "metadata": {
    "colab": {
     "base_uri": "https://localhost:8080/",
     "height": 206
    },
    "executionInfo": {
     "elapsed": 19,
     "status": "ok",
     "timestamp": 1624466634999,
     "user": {
      "displayName": "siddharth patra",
      "photoUrl": "https://lh3.googleusercontent.com/a-/AOh14Gjnwsdj5DKa95WHRl25dlQz9L1Bbc10vap4xTNIiA=s64",
      "userId": "01966341811263607507"
     },
     "user_tz": -330
    },
    "id": "pz9rHUAiEb18",
    "outputId": "f9bdf5ea-877e-4b16-eab4-23cf9e3948b8"
   },
   "outputs": [
    {
     "data": {
      "text/html": [
       "<div>\n",
       "<style scoped>\n",
       "    .dataframe tbody tr th:only-of-type {\n",
       "        vertical-align: middle;\n",
       "    }\n",
       "\n",
       "    .dataframe tbody tr th {\n",
       "        vertical-align: top;\n",
       "    }\n",
       "\n",
       "    .dataframe thead th {\n",
       "        text-align: right;\n",
       "    }\n",
       "</style>\n",
       "<table border=\"1\" class=\"dataframe\">\n",
       "  <thead>\n",
       "    <tr style=\"text-align: right;\">\n",
       "      <th></th>\n",
       "      <th>latitude</th>\n",
       "      <th>longitude</th>\n",
       "      <th>brightness</th>\n",
       "      <th>scan</th>\n",
       "      <th>acq_date</th>\n",
       "      <th>acq_time</th>\n",
       "      <th>satellite</th>\n",
       "      <th>confidence</th>\n",
       "      <th>bright_t31</th>\n",
       "      <th>frp</th>\n",
       "      <th>daynight</th>\n",
       "      <th>0.0</th>\n",
       "      <th>2.0</th>\n",
       "      <th>3.0</th>\n",
       "    </tr>\n",
       "  </thead>\n",
       "  <tbody>\n",
       "    <tr>\n",
       "      <th>0</th>\n",
       "      <td>36.8527</td>\n",
       "      <td>35.3594</td>\n",
       "      <td>306.0</td>\n",
       "      <td>2.1</td>\n",
       "      <td>2000-11-01</td>\n",
       "      <td>815</td>\n",
       "      <td>1</td>\n",
       "      <td>60</td>\n",
       "      <td>294.4</td>\n",
       "      <td>13.2</td>\n",
       "      <td>1</td>\n",
       "      <td>1</td>\n",
       "      <td>0</td>\n",
       "      <td>0</td>\n",
       "    </tr>\n",
       "    <tr>\n",
       "      <th>1</th>\n",
       "      <td>40.5441</td>\n",
       "      <td>35.1786</td>\n",
       "      <td>307.8</td>\n",
       "      <td>1.1</td>\n",
       "      <td>2000-11-02</td>\n",
       "      <td>857</td>\n",
       "      <td>1</td>\n",
       "      <td>66</td>\n",
       "      <td>296.0</td>\n",
       "      <td>5.8</td>\n",
       "      <td>1</td>\n",
       "      <td>1</td>\n",
       "      <td>0</td>\n",
       "      <td>0</td>\n",
       "    </tr>\n",
       "    <tr>\n",
       "      <th>2</th>\n",
       "      <td>40.1473</td>\n",
       "      <td>35.0444</td>\n",
       "      <td>305.3</td>\n",
       "      <td>1.1</td>\n",
       "      <td>2000-11-02</td>\n",
       "      <td>857</td>\n",
       "      <td>1</td>\n",
       "      <td>46</td>\n",
       "      <td>293.5</td>\n",
       "      <td>4.3</td>\n",
       "      <td>1</td>\n",
       "      <td>1</td>\n",
       "      <td>0</td>\n",
       "      <td>0</td>\n",
       "    </tr>\n",
       "    <tr>\n",
       "      <th>3</th>\n",
       "      <td>40.5421</td>\n",
       "      <td>35.1909</td>\n",
       "      <td>310.0</td>\n",
       "      <td>1.1</td>\n",
       "      <td>2000-11-02</td>\n",
       "      <td>857</td>\n",
       "      <td>1</td>\n",
       "      <td>69</td>\n",
       "      <td>296.1</td>\n",
       "      <td>7.3</td>\n",
       "      <td>1</td>\n",
       "      <td>1</td>\n",
       "      <td>0</td>\n",
       "      <td>0</td>\n",
       "    </tr>\n",
       "    <tr>\n",
       "      <th>4</th>\n",
       "      <td>41.2569</td>\n",
       "      <td>31.4172</td>\n",
       "      <td>307.9</td>\n",
       "      <td>1.1</td>\n",
       "      <td>2000-11-02</td>\n",
       "      <td>857</td>\n",
       "      <td>1</td>\n",
       "      <td>0</td>\n",
       "      <td>290.4</td>\n",
       "      <td>8.0</td>\n",
       "      <td>1</td>\n",
       "      <td>0</td>\n",
       "      <td>1</td>\n",
       "      <td>0</td>\n",
       "    </tr>\n",
       "  </tbody>\n",
       "</table>\n",
       "</div>"
      ],
      "text/plain": [
       "   latitude  longitude  brightness  scan    acq_date  acq_time  satellite  \\\n",
       "0   36.8527    35.3594       306.0   2.1  2000-11-01       815          1   \n",
       "1   40.5441    35.1786       307.8   1.1  2000-11-02       857          1   \n",
       "2   40.1473    35.0444       305.3   1.1  2000-11-02       857          1   \n",
       "3   40.5421    35.1909       310.0   1.1  2000-11-02       857          1   \n",
       "4   41.2569    31.4172       307.9   1.1  2000-11-02       857          1   \n",
       "\n",
       "   confidence  bright_t31   frp  daynight  0.0  2.0  3.0  \n",
       "0          60       294.4  13.2         1    1    0    0  \n",
       "1          66       296.0   5.8         1    1    0    0  \n",
       "2          46       293.5   4.3         1    1    0    0  \n",
       "3          69       296.1   7.3         1    1    0    0  \n",
       "4           0       290.4   8.0         1    0    1    0  "
      ]
     },
     "execution_count": 13,
     "metadata": {},
     "output_type": "execute_result"
    }
   ],
   "source": [
    "types = pd.get_dummies(forest['type'])\n",
    "forest = pd.concat([forest, types], axis=1)\n",
    "\n",
    "forest = forest.drop(['type'], axis = 1)\n",
    "forest.head()"
   ]
  },
  {
   "cell_type": "code",
   "execution_count": 14,
   "metadata": {
    "id": "FiyPSxSRE6J2"
   },
   "outputs": [],
   "source": [
    "\n",
    "\n",
    "forest = forest.rename(columns={0: 'type_0', 2: 'type_2', 3: 'type_3'})"
   ]
  },
  {
   "cell_type": "code",
   "execution_count": 15,
   "metadata": {
    "colab": {
     "base_uri": "https://localhost:8080/",
     "height": 206
    },
    "executionInfo": {
     "elapsed": 6,
     "status": "ok",
     "timestamp": 1624466635914,
     "user": {
      "displayName": "siddharth patra",
      "photoUrl": "https://lh3.googleusercontent.com/a-/AOh14Gjnwsdj5DKa95WHRl25dlQz9L1Bbc10vap4xTNIiA=s64",
      "userId": "01966341811263607507"
     },
     "user_tz": -330
    },
    "id": "v6UXQ4-SFgPB",
    "outputId": "bce2e6a6-6007-47e8-fa8d-d8297ecee76b"
   },
   "outputs": [
    {
     "data": {
      "text/html": [
       "<div>\n",
       "<style scoped>\n",
       "    .dataframe tbody tr th:only-of-type {\n",
       "        vertical-align: middle;\n",
       "    }\n",
       "\n",
       "    .dataframe tbody tr th {\n",
       "        vertical-align: top;\n",
       "    }\n",
       "\n",
       "    .dataframe thead th {\n",
       "        text-align: right;\n",
       "    }\n",
       "</style>\n",
       "<table border=\"1\" class=\"dataframe\">\n",
       "  <thead>\n",
       "    <tr style=\"text-align: right;\">\n",
       "      <th></th>\n",
       "      <th>latitude</th>\n",
       "      <th>longitude</th>\n",
       "      <th>brightness</th>\n",
       "      <th>scan</th>\n",
       "      <th>acq_date</th>\n",
       "      <th>acq_time</th>\n",
       "      <th>satellite</th>\n",
       "      <th>confidence</th>\n",
       "      <th>bright_t31</th>\n",
       "      <th>frp</th>\n",
       "      <th>daynight</th>\n",
       "      <th>type_0</th>\n",
       "      <th>type_2</th>\n",
       "      <th>type_3</th>\n",
       "      <th>scan_binned</th>\n",
       "    </tr>\n",
       "  </thead>\n",
       "  <tbody>\n",
       "    <tr>\n",
       "      <th>0</th>\n",
       "      <td>36.8527</td>\n",
       "      <td>35.3594</td>\n",
       "      <td>306.0</td>\n",
       "      <td>2.1</td>\n",
       "      <td>2000-11-01</td>\n",
       "      <td>815</td>\n",
       "      <td>1</td>\n",
       "      <td>60</td>\n",
       "      <td>294.4</td>\n",
       "      <td>13.2</td>\n",
       "      <td>1</td>\n",
       "      <td>1</td>\n",
       "      <td>0</td>\n",
       "      <td>0</td>\n",
       "      <td>3</td>\n",
       "    </tr>\n",
       "    <tr>\n",
       "      <th>1</th>\n",
       "      <td>40.5441</td>\n",
       "      <td>35.1786</td>\n",
       "      <td>307.8</td>\n",
       "      <td>1.1</td>\n",
       "      <td>2000-11-02</td>\n",
       "      <td>857</td>\n",
       "      <td>1</td>\n",
       "      <td>66</td>\n",
       "      <td>296.0</td>\n",
       "      <td>5.8</td>\n",
       "      <td>1</td>\n",
       "      <td>1</td>\n",
       "      <td>0</td>\n",
       "      <td>0</td>\n",
       "      <td>2</td>\n",
       "    </tr>\n",
       "    <tr>\n",
       "      <th>2</th>\n",
       "      <td>40.1473</td>\n",
       "      <td>35.0444</td>\n",
       "      <td>305.3</td>\n",
       "      <td>1.1</td>\n",
       "      <td>2000-11-02</td>\n",
       "      <td>857</td>\n",
       "      <td>1</td>\n",
       "      <td>46</td>\n",
       "      <td>293.5</td>\n",
       "      <td>4.3</td>\n",
       "      <td>1</td>\n",
       "      <td>1</td>\n",
       "      <td>0</td>\n",
       "      <td>0</td>\n",
       "      <td>2</td>\n",
       "    </tr>\n",
       "    <tr>\n",
       "      <th>3</th>\n",
       "      <td>40.5421</td>\n",
       "      <td>35.1909</td>\n",
       "      <td>310.0</td>\n",
       "      <td>1.1</td>\n",
       "      <td>2000-11-02</td>\n",
       "      <td>857</td>\n",
       "      <td>1</td>\n",
       "      <td>69</td>\n",
       "      <td>296.1</td>\n",
       "      <td>7.3</td>\n",
       "      <td>1</td>\n",
       "      <td>1</td>\n",
       "      <td>0</td>\n",
       "      <td>0</td>\n",
       "      <td>2</td>\n",
       "    </tr>\n",
       "    <tr>\n",
       "      <th>4</th>\n",
       "      <td>41.2569</td>\n",
       "      <td>31.4172</td>\n",
       "      <td>307.9</td>\n",
       "      <td>1.1</td>\n",
       "      <td>2000-11-02</td>\n",
       "      <td>857</td>\n",
       "      <td>1</td>\n",
       "      <td>0</td>\n",
       "      <td>290.4</td>\n",
       "      <td>8.0</td>\n",
       "      <td>1</td>\n",
       "      <td>0</td>\n",
       "      <td>1</td>\n",
       "      <td>0</td>\n",
       "      <td>2</td>\n",
       "    </tr>\n",
       "  </tbody>\n",
       "</table>\n",
       "</div>"
      ],
      "text/plain": [
       "   latitude  longitude  brightness  scan    acq_date  acq_time  satellite  \\\n",
       "0   36.8527    35.3594       306.0   2.1  2000-11-01       815          1   \n",
       "1   40.5441    35.1786       307.8   1.1  2000-11-02       857          1   \n",
       "2   40.1473    35.0444       305.3   1.1  2000-11-02       857          1   \n",
       "3   40.5421    35.1909       310.0   1.1  2000-11-02       857          1   \n",
       "4   41.2569    31.4172       307.9   1.1  2000-11-02       857          1   \n",
       "\n",
       "   confidence  bright_t31   frp  daynight  type_0  type_2  type_3 scan_binned  \n",
       "0          60       294.4  13.2         1       1       0       0           3  \n",
       "1          66       296.0   5.8         1       1       0       0           2  \n",
       "2          46       293.5   4.3         1       1       0       0           2  \n",
       "3          69       296.1   7.3         1       1       0       0           2  \n",
       "4           0       290.4   8.0         1       0       1       0           2  "
      ]
     },
     "execution_count": 15,
     "metadata": {},
     "output_type": "execute_result"
    }
   ],
   "source": [
    "\n",
    "\n",
    "bins = [0, 1, 2, 3, 4, 5]\n",
    "labels = [1,2,3,4,5]\n",
    "forest['scan_binned'] = pd.cut(forest['scan'], bins=bins, labels=labels)\n",
    "\n",
    "forest.head()"
   ]
  },
  {
   "cell_type": "code",
   "execution_count": 16,
   "metadata": {
    "id": "fJIYxn2TIseV"
   },
   "outputs": [],
   "source": [
    "\n",
    "\n",
    "forest['acq_date'] = pd.to_datetime(forest['acq_date'])"
   ]
  },
  {
   "cell_type": "code",
   "execution_count": 17,
   "metadata": {
    "id": "g-H-wnVKFjJe"
   },
   "outputs": [],
   "source": [
    "\n",
    "\n",
    "forest = forest.drop(['scan'], axis = 1)"
   ]
  },
  {
   "cell_type": "code",
   "execution_count": 18,
   "metadata": {
    "colab": {
     "base_uri": "https://localhost:8080/",
     "height": 206
    },
    "executionInfo": {
     "elapsed": 5,
     "status": "ok",
     "timestamp": 1624466637106,
     "user": {
      "displayName": "siddharth patra",
      "photoUrl": "https://lh3.googleusercontent.com/a-/AOh14Gjnwsdj5DKa95WHRl25dlQz9L1Bbc10vap4xTNIiA=s64",
      "userId": "01966341811263607507"
     },
     "user_tz": -330
    },
    "id": "oPT5eHoIJWhC",
    "outputId": "7ee91e1d-3ad5-4008-f5d6-a1d25b2c8a24"
   },
   "outputs": [
    {
     "data": {
      "text/html": [
       "<div>\n",
       "<style scoped>\n",
       "    .dataframe tbody tr th:only-of-type {\n",
       "        vertical-align: middle;\n",
       "    }\n",
       "\n",
       "    .dataframe tbody tr th {\n",
       "        vertical-align: top;\n",
       "    }\n",
       "\n",
       "    .dataframe thead th {\n",
       "        text-align: right;\n",
       "    }\n",
       "</style>\n",
       "<table border=\"1\" class=\"dataframe\">\n",
       "  <thead>\n",
       "    <tr style=\"text-align: right;\">\n",
       "      <th></th>\n",
       "      <th>latitude</th>\n",
       "      <th>longitude</th>\n",
       "      <th>brightness</th>\n",
       "      <th>acq_date</th>\n",
       "      <th>acq_time</th>\n",
       "      <th>satellite</th>\n",
       "      <th>confidence</th>\n",
       "      <th>bright_t31</th>\n",
       "      <th>frp</th>\n",
       "      <th>daynight</th>\n",
       "      <th>type_0</th>\n",
       "      <th>type_2</th>\n",
       "      <th>type_3</th>\n",
       "      <th>scan_binned</th>\n",
       "      <th>year</th>\n",
       "    </tr>\n",
       "  </thead>\n",
       "  <tbody>\n",
       "    <tr>\n",
       "      <th>0</th>\n",
       "      <td>36.8527</td>\n",
       "      <td>35.3594</td>\n",
       "      <td>306.0</td>\n",
       "      <td>2000-11-01</td>\n",
       "      <td>815</td>\n",
       "      <td>1</td>\n",
       "      <td>60</td>\n",
       "      <td>294.4</td>\n",
       "      <td>13.2</td>\n",
       "      <td>1</td>\n",
       "      <td>1</td>\n",
       "      <td>0</td>\n",
       "      <td>0</td>\n",
       "      <td>3</td>\n",
       "      <td>2000</td>\n",
       "    </tr>\n",
       "    <tr>\n",
       "      <th>1</th>\n",
       "      <td>40.5441</td>\n",
       "      <td>35.1786</td>\n",
       "      <td>307.8</td>\n",
       "      <td>2000-11-02</td>\n",
       "      <td>857</td>\n",
       "      <td>1</td>\n",
       "      <td>66</td>\n",
       "      <td>296.0</td>\n",
       "      <td>5.8</td>\n",
       "      <td>1</td>\n",
       "      <td>1</td>\n",
       "      <td>0</td>\n",
       "      <td>0</td>\n",
       "      <td>2</td>\n",
       "      <td>2000</td>\n",
       "    </tr>\n",
       "    <tr>\n",
       "      <th>2</th>\n",
       "      <td>40.1473</td>\n",
       "      <td>35.0444</td>\n",
       "      <td>305.3</td>\n",
       "      <td>2000-11-02</td>\n",
       "      <td>857</td>\n",
       "      <td>1</td>\n",
       "      <td>46</td>\n",
       "      <td>293.5</td>\n",
       "      <td>4.3</td>\n",
       "      <td>1</td>\n",
       "      <td>1</td>\n",
       "      <td>0</td>\n",
       "      <td>0</td>\n",
       "      <td>2</td>\n",
       "      <td>2000</td>\n",
       "    </tr>\n",
       "    <tr>\n",
       "      <th>3</th>\n",
       "      <td>40.5421</td>\n",
       "      <td>35.1909</td>\n",
       "      <td>310.0</td>\n",
       "      <td>2000-11-02</td>\n",
       "      <td>857</td>\n",
       "      <td>1</td>\n",
       "      <td>69</td>\n",
       "      <td>296.1</td>\n",
       "      <td>7.3</td>\n",
       "      <td>1</td>\n",
       "      <td>1</td>\n",
       "      <td>0</td>\n",
       "      <td>0</td>\n",
       "      <td>2</td>\n",
       "      <td>2000</td>\n",
       "    </tr>\n",
       "    <tr>\n",
       "      <th>4</th>\n",
       "      <td>41.2569</td>\n",
       "      <td>31.4172</td>\n",
       "      <td>307.9</td>\n",
       "      <td>2000-11-02</td>\n",
       "      <td>857</td>\n",
       "      <td>1</td>\n",
       "      <td>0</td>\n",
       "      <td>290.4</td>\n",
       "      <td>8.0</td>\n",
       "      <td>1</td>\n",
       "      <td>0</td>\n",
       "      <td>1</td>\n",
       "      <td>0</td>\n",
       "      <td>2</td>\n",
       "      <td>2000</td>\n",
       "    </tr>\n",
       "  </tbody>\n",
       "</table>\n",
       "</div>"
      ],
      "text/plain": [
       "   latitude  longitude  brightness   acq_date  acq_time  satellite  \\\n",
       "0   36.8527    35.3594       306.0 2000-11-01       815          1   \n",
       "1   40.5441    35.1786       307.8 2000-11-02       857          1   \n",
       "2   40.1473    35.0444       305.3 2000-11-02       857          1   \n",
       "3   40.5421    35.1909       310.0 2000-11-02       857          1   \n",
       "4   41.2569    31.4172       307.9 2000-11-02       857          1   \n",
       "\n",
       "   confidence  bright_t31   frp  daynight  type_0  type_2  type_3 scan_binned  \\\n",
       "0          60       294.4  13.2         1       1       0       0           3   \n",
       "1          66       296.0   5.8         1       1       0       0           2   \n",
       "2          46       293.5   4.3         1       1       0       0           2   \n",
       "3          69       296.1   7.3         1       1       0       0           2   \n",
       "4           0       290.4   8.0         1       0       1       0           2   \n",
       "\n",
       "   year  \n",
       "0  2000  \n",
       "1  2000  \n",
       "2  2000  \n",
       "3  2000  \n",
       "4  2000  "
      ]
     },
     "execution_count": 18,
     "metadata": {},
     "output_type": "execute_result"
    }
   ],
   "source": [
    "forest['year'] = forest['acq_date'].dt.year\n",
    "\n",
    "forest.head()"
   ]
  },
  {
   "cell_type": "code",
   "execution_count": 19,
   "metadata": {
    "id": "QB-9VFL7JlUL"
   },
   "outputs": [],
   "source": [
    "forest['month'] = forest['acq_date'].dt.month\n",
    "forest['day'] = forest['acq_date'].dt.day"
   ]
  },
  {
   "cell_type": "code",
   "execution_count": 20,
   "metadata": {
    "colab": {
     "base_uri": "https://localhost:8080/"
    },
    "executionInfo": {
     "elapsed": 2,
     "status": "ok",
     "timestamp": 1624466638242,
     "user": {
      "displayName": "siddharth patra",
      "photoUrl": "https://lh3.googleusercontent.com/a-/AOh14Gjnwsdj5DKa95WHRl25dlQz9L1Bbc10vap4xTNIiA=s64",
      "userId": "01966341811263607507"
     },
     "user_tz": -330
    },
    "id": "bCuQA0xzJ0zX",
    "outputId": "d7f05940-ddc9-4b07-aeef-8d4dd4cdf1d8"
   },
   "outputs": [
    {
     "data": {
      "text/plain": [
       "(211309, 17)"
      ]
     },
     "execution_count": 20,
     "metadata": {},
     "output_type": "execute_result"
    }
   ],
   "source": [
    "forest.shape"
   ]
  },
  {
   "cell_type": "code",
   "execution_count": 21,
   "metadata": {
    "id": "E8qfLwgjJ3I9"
   },
   "outputs": [],
   "source": [
    "\n",
    "\n",
    "y = forest['confidence']\n",
    "fin = forest.drop(['confidence', 'acq_date', 'acq_time', 'bright_t31', 'type_0'], axis = 1)"
   ]
  },
  {
   "cell_type": "code",
   "execution_count": 22,
   "metadata": {
    "colab": {
     "base_uri": "https://localhost:8080/",
     "height": 655
    },
    "executionInfo": {
     "elapsed": 1350,
     "status": "ok",
     "timestamp": 1624466640812,
     "user": {
      "displayName": "siddharth patra",
      "photoUrl": "https://lh3.googleusercontent.com/a-/AOh14Gjnwsdj5DKa95WHRl25dlQz9L1Bbc10vap4xTNIiA=s64",
      "userId": "01966341811263607507"
     },
     "user_tz": -330
    },
    "id": "P2WANxh0g10m",
    "outputId": "c8006555-4616-4884-d3c7-e222d7d760de"
   },
   "outputs": [
    {
     "data": {
      "text/plain": [
       "<AxesSubplot:>"
      ]
     },
     "execution_count": 22,
     "metadata": {},
     "output_type": "execute_result"
    },
    {
     "data": {
      "image/png": "[encoded data removed]",
      "text/plain": [
       "<Figure size 720x720 with 2 Axes>"
      ]
     },
     "metadata": {
      "needs_background": "light"
     },
     "output_type": "display_data"
    }
   ],
   "source": [
    "plt.figure(figsize=(10, 10))\n",
    "sns.heatmap(fin.corr(),annot=True,cmap='viridis',linewidths=.5)"
   ]
  },
  {
   "cell_type": "code",
   "execution_count": 23,
   "metadata": {
    "colab": {
     "base_uri": "https://localhost:8080/",
     "height": 206
    },
    "executionInfo": {
     "elapsed": 12,
     "status": "ok",
     "timestamp": 1624466640814,
     "user": {
      "displayName": "siddharth patra",
      "photoUrl": "https://lh3.googleusercontent.com/a-/AOh14Gjnwsdj5DKa95WHRl25dlQz9L1Bbc10vap4xTNIiA=s64",
      "userId": "01966341811263607507"
     },
     "user_tz": -330
    },
    "id": "fpwoKDWee2YL",
    "outputId": "61470bd6-973c-46a2-b46e-654c230ff283"
   },
   "outputs": [
    {
     "data": {
      "text/html": [
       "<div>\n",
       "<style scoped>\n",
       "    .dataframe tbody tr th:only-of-type {\n",
       "        vertical-align: middle;\n",
       "    }\n",
       "\n",
       "    .dataframe tbody tr th {\n",
       "        vertical-align: top;\n",
       "    }\n",
       "\n",
       "    .dataframe thead th {\n",
       "        text-align: right;\n",
       "    }\n",
       "</style>\n",
       "<table border=\"1\" class=\"dataframe\">\n",
       "  <thead>\n",
       "    <tr style=\"text-align: right;\">\n",
       "      <th></th>\n",
       "      <th>latitude</th>\n",
       "      <th>longitude</th>\n",
       "      <th>brightness</th>\n",
       "      <th>satellite</th>\n",
       "      <th>frp</th>\n",
       "      <th>daynight</th>\n",
       "      <th>type_2</th>\n",
       "      <th>type_3</th>\n",
       "      <th>scan_binned</th>\n",
       "      <th>year</th>\n",
       "      <th>month</th>\n",
       "      <th>day</th>\n",
       "    </tr>\n",
       "  </thead>\n",
       "  <tbody>\n",
       "    <tr>\n",
       "      <th>0</th>\n",
       "      <td>36.8527</td>\n",
       "      <td>35.3594</td>\n",
       "      <td>306.0</td>\n",
       "      <td>1</td>\n",
       "      <td>13.2</td>\n",
       "      <td>1</td>\n",
       "      <td>0</td>\n",
       "      <td>0</td>\n",
       "      <td>3</td>\n",
       "      <td>2000</td>\n",
       "      <td>11</td>\n",
       "      <td>1</td>\n",
       "    </tr>\n",
       "    <tr>\n",
       "      <th>1</th>\n",
       "      <td>40.5441</td>\n",
       "      <td>35.1786</td>\n",
       "      <td>307.8</td>\n",
       "      <td>1</td>\n",
       "      <td>5.8</td>\n",
       "      <td>1</td>\n",
       "      <td>0</td>\n",
       "      <td>0</td>\n",
       "      <td>2</td>\n",
       "      <td>2000</td>\n",
       "      <td>11</td>\n",
       "      <td>2</td>\n",
       "    </tr>\n",
       "    <tr>\n",
       "      <th>2</th>\n",
       "      <td>40.1473</td>\n",
       "      <td>35.0444</td>\n",
       "      <td>305.3</td>\n",
       "      <td>1</td>\n",
       "      <td>4.3</td>\n",
       "      <td>1</td>\n",
       "      <td>0</td>\n",
       "      <td>0</td>\n",
       "      <td>2</td>\n",
       "      <td>2000</td>\n",
       "      <td>11</td>\n",
       "      <td>2</td>\n",
       "    </tr>\n",
       "    <tr>\n",
       "      <th>3</th>\n",
       "      <td>40.5421</td>\n",
       "      <td>35.1909</td>\n",
       "      <td>310.0</td>\n",
       "      <td>1</td>\n",
       "      <td>7.3</td>\n",
       "      <td>1</td>\n",
       "      <td>0</td>\n",
       "      <td>0</td>\n",
       "      <td>2</td>\n",
       "      <td>2000</td>\n",
       "      <td>11</td>\n",
       "      <td>2</td>\n",
       "    </tr>\n",
       "    <tr>\n",
       "      <th>4</th>\n",
       "      <td>41.2569</td>\n",
       "      <td>31.4172</td>\n",
       "      <td>307.9</td>\n",
       "      <td>1</td>\n",
       "      <td>8.0</td>\n",
       "      <td>1</td>\n",
       "      <td>1</td>\n",
       "      <td>0</td>\n",
       "      <td>2</td>\n",
       "      <td>2000</td>\n",
       "      <td>11</td>\n",
       "      <td>2</td>\n",
       "    </tr>\n",
       "  </tbody>\n",
       "</table>\n",
       "</div>"
      ],
      "text/plain": [
       "   latitude  longitude  brightness  satellite   frp  daynight  type_2  type_3  \\\n",
       "0   36.8527    35.3594       306.0          1  13.2         1       0       0   \n",
       "1   40.5441    35.1786       307.8          1   5.8         1       0       0   \n",
       "2   40.1473    35.0444       305.3          1   4.3         1       0       0   \n",
       "3   40.5421    35.1909       310.0          1   7.3         1       0       0   \n",
       "4   41.2569    31.4172       307.9          1   8.0         1       1       0   \n",
       "\n",
       "  scan_binned  year  month  day  \n",
       "0           3  2000     11    1  \n",
       "1           2  2000     11    2  \n",
       "2           2  2000     11    2  \n",
       "3           2  2000     11    2  \n",
       "4           2  2000     11    2  "
      ]
     },
     "execution_count": 23,
     "metadata": {},
     "output_type": "execute_result"
    }
   ],
   "source": [
    "fin.head()"
   ]
  },
  {
   "cell_type": "code",
   "execution_count": 24,
   "metadata": {
    "id": "2XnxIRf7KuVL"
   },
   "outputs": [],
   "source": [
    "Xtrain, Xtest, ytrain, ytest = train_test_split(fin.iloc[:, :500], y, test_size=0.2)"
   ]
  },
  {
   "cell_type": "code",
   "execution_count": 25,
   "metadata": {
    "id": "zzPfe5KeKzRW"
   },
   "outputs": [],
   "source": [
    "random_model = RandomForestRegressor(n_estimators=300, random_state = 42, n_jobs = -1)"
   ]
  },
  {
   "cell_type": "code",
   "execution_count": 26,
   "metadata": {
    "colab": {
     "base_uri": "https://localhost:8080/"
    },
    "executionInfo": {
     "elapsed": 39175,
     "status": "ok",
     "timestamp": 1624466681739,
     "user": {
      "displayName": "siddharth patra",
      "photoUrl": "https://lh3.googleusercontent.com/a-/AOh14Gjnwsdj5DKa95WHRl25dlQz9L1Bbc10vap4xTNIiA=s64",
      "userId": "01966341811263607507"
     },
     "user_tz": -330
    },
    "id": "Xs3LXVH1K2DF",
    "outputId": "38fa2025-4ea4-464f-9402-6a8dccd46721"
   },
   "outputs": [
    {
     "name": "stdout",
     "output_type": "stream",
     "text": [
      "96.37 %\n"
     ]
    }
   ],
   "source": [
    "\n",
    "random_model.fit(Xtrain, ytrain)\n",
    "\n",
    "y_pred = random_model.predict(Xtest)\n",
    "\n",
    "\n",
    "random_model_accuracy = round(random_model.score(Xtrain, ytrain)*100,2)\n",
    "print(round(random_model_accuracy, 2), '%')"
   ]
  },
  {
   "cell_type": "code",
   "execution_count": 27,
   "metadata": {
    "colab": {
     "base_uri": "https://localhost:8080/"
    },
    "executionInfo": {
     "elapsed": 629,
     "status": "ok",
     "timestamp": 1624466682362,
     "user": {
      "displayName": "siddharth patra",
      "photoUrl": "https://lh3.googleusercontent.com/a-/AOh14Gjnwsdj5DKa95WHRl25dlQz9L1Bbc10vap4xTNIiA=s64",
      "userId": "01966341811263607507"
     },
     "user_tz": -330
    },
    "id": "_bRcHW-TK5e5",
    "outputId": "d1d3d60d-69a6-4781-f8fa-7555058ec602"
   },
   "outputs": [
    {
     "name": "stdout",
     "output_type": "stream",
     "text": [
      "73.18 %\n"
     ]
    }
   ],
   "source": [
    "#C\n",
    "random_model_accuracy1 = round(random_model.score(Xtest, ytest)*100,2)\n",
    "print(round(random_model_accuracy1, 2), '%')"
   ]
  },
  {
   "cell_type": "code",
   "execution_count": 1,
   "metadata": {
    "id": "OdHq4nfDvWE5"
   },
   "outputs": [
    {
     "ename": "SyntaxError",
     "evalue": "(unicode error) 'unicodeescape' codec can't decode bytes in position 2-3: truncated \\UXXXXXXXX escape (Temp/ipykernel_15468/907200093.py, line 3)",
     "output_type": "error",
     "traceback": [
      "\u001b[1;36m  File \u001b[1;32m\"C:\\Users\\saad\\AppData\\Local\\Temp/ipykernel_15468/907200093.py\"\u001b[1;36m, line \u001b[1;32m3\u001b[0m\n\u001b[1;33m    saved_model = pickle.dump(random_model, open('C:\\Users\\saad\\Documents\\fire\\ForestModel.picklee','wb'))\u001b[0m\n\u001b[1;37m                                                                                                   ^\u001b[0m\n\u001b[1;31mSyntaxError\u001b[0m\u001b[1;31m:\u001b[0m (unicode error) 'unicodeescape' codec can't decode bytes in position 2-3: truncated \\UXXXXXXXX escape\n"
     ]
    }
   ],
   "source": [
    "\n",
    "import pickle \n",
    "\n",
    "saved_model = pickle.dump(random_model, open('C:\\Users\\saad\\Documents\\fire\\ForestModel.picklee','wb'))"
   ]
  },
  {
   "cell_type": "code",
   "execution_count": 32,
   "metadata": {
    "id": "PkzWoNLULaos"
   },
   "outputs": [],
   "source": [
    "# The accuracy is not so great, plus the model is overfitting\n",
    "# So we use RandomCV"
   ]
  },
  {
   "cell_type": "code",
   "execution_count": 34,
   "metadata": {
    "colab": {
     "base_uri": "https://localhost:8080/"
    },
    "executionInfo": {
     "elapsed": 11,
     "status": "ok",
     "timestamp": 1624460388906,
     "user": {
      "displayName": "siddharth patra",
      "photoUrl": "https://lh3.googleusercontent.com/a-/AOh14Gjnwsdj5DKa95WHRl25dlQz9L1Bbc10vap4xTNIiA=s64",
      "userId": "01966341811263607507"
     },
     "user_tz": -330
    },
    "id": "vmuyDMGOMGpD",
    "outputId": "bf5680bc-94eb-48bc-9c5a-2244638c3eff"
   },
   "outputs": [
    {
     "data": {
      "text/plain": [
       "{'bootstrap': True,\n",
       " 'ccp_alpha': 0.0,\n",
       " 'criterion': 'squared_error',\n",
       " 'max_depth': None,\n",
       " 'max_features': 'auto',\n",
       " 'max_leaf_nodes': None,\n",
       " 'max_samples': None,\n",
       " 'min_impurity_decrease': 0.0,\n",
       " 'min_samples_leaf': 1,\n",
       " 'min_samples_split': 2,\n",
       " 'min_weight_fraction_leaf': 0.0,\n",
       " 'n_estimators': 300,\n",
       " 'n_jobs': -1,\n",
       " 'oob_score': False,\n",
       " 'random_state': 42,\n",
       " 'verbose': 0,\n",
       " 'warm_start': False}"
      ]
     },
     "execution_count": 34,
     "metadata": {},
     "output_type": "execute_result"
    }
   ],
   "source": [
    "random_model.get_params()"
   ]
  },
  {
   "cell_type": "code",
   "execution_count": 35,
   "metadata": {
    "id": "E3szICeuMJ4r"
   },
   "outputs": [],
   "source": [
    "\n",
    "\n",
    "from sklearn.model_selection import RandomizedSearchCV"
   ]
  },
  {
   "cell_type": "code",
   "execution_count": 36,
   "metadata": {
    "colab": {
     "base_uri": "https://localhost:8080/"
    },
    "executionInfo": {
     "elapsed": 9,
     "status": "ok",
     "timestamp": 1624460388907,
     "user": {
      "displayName": "siddharth patra",
      "photoUrl": "https://lh3.googleusercontent.com/a-/AOh14Gjnwsdj5DKa95WHRl25dlQz9L1Bbc10vap4xTNIiA=s64",
      "userId": "01966341811263607507"
     },
     "user_tz": -330
    },
    "id": "kRiXHtQUMOkq",
    "outputId": "b586a853-2408-4ad6-9d5e-fc9a66717348"
   },
   "outputs": [
    {
     "name": "stdout",
     "output_type": "stream",
     "text": [
      "{'n_estimators': [300, 310, 321, 331, 342, 352, 363, 373, 384, 394, 405, 415, 426, 436, 447, 457, 468, 478, 489, 500], 'max_features': ['auto', 'sqrt'], 'max_depth': [15, 18, 21, 25, 28, 31, 35, None], 'min_samples_split': [2, 3, 5], 'min_samples_leaf': [1, 2, 4]}\n"
     ]
    }
   ],
   "source": [
    "\n",
    "n_estimators = [int(x) for x in np.linspace(start = 300, stop = 500, num = 20)]\n",
    "\n",
    "max_features = ['auto', 'sqrt']\n",
    "\n",
    "max_depth = [int(x) for x in np.linspace(15, 35, num = 7)]\n",
    "max_depth.append(None)\n",
    "\n",
    "min_samples_split = [2, 3, 5]\n",
    "\n",
    "min_samples_leaf = [1, 2, 4]\n",
    "\n",
    "random_grid = {'n_estimators': n_estimators,\n",
    "               'max_features': max_features,\n",
    "               'max_depth': max_depth,\n",
    "               'min_samples_split': min_samples_split,\n",
    "               'min_samples_leaf': min_samples_leaf,\n",
    "                }\n",
    "print(random_grid)"
   ]
  },
  {
   "cell_type": "code",
   "execution_count": 37,
   "metadata": {
    "colab": {
     "base_uri": "https://localhost:8080/"
    },
    "executionInfo": {
     "elapsed": 3195792,
     "status": "ok",
     "timestamp": 1624463584692,
     "user": {
      "displayName": "siddharth patra",
      "photoUrl": "https://lh3.googleusercontent.com/a-/AOh14Gjnwsdj5DKa95WHRl25dlQz9L1Bbc10vap4xTNIiA=s64",
      "userId": "01966341811263607507"
     },
     "user_tz": -330
    },
    "id": "Acyu2I_hMYx4",
    "outputId": "723b78c2-fc07-4f17-e34a-182de91fbad1",
    "scrolled": false
   },
   "outputs": [
    {
     "name": "stdout",
     "output_type": "stream",
     "text": [
      "Fitting 3 folds for each of 50 candidates, totalling 150 fits\n",
      "[CV] END max_depth=18, max_features=auto, min_samples_leaf=2, min_samples_split=5, n_estimators=415; total time= 1.1min\n",
      "[CV] END max_depth=18, max_features=auto, min_samples_leaf=2, min_samples_split=5, n_estimators=415; total time= 1.1min\n",
      "[CV] END max_depth=18, max_features=auto, min_samples_leaf=2, min_samples_split=5, n_estimators=415; total time= 1.2min\n",
      "[CV] END max_depth=28, max_features=auto, min_samples_leaf=1, min_samples_split=2, n_estimators=436; total time= 1.4min\n",
      "[CV] END max_depth=28, max_features=auto, min_samples_leaf=1, min_samples_split=2, n_estimators=436; total time= 1.5min\n",
      "[CV] END max_depth=28, max_features=auto, min_samples_leaf=1, min_samples_split=2, n_estimators=436; total time= 1.5min\n",
      "[CV] END max_depth=35, max_features=sqrt, min_samples_leaf=1, min_samples_split=3, n_estimators=478; total time=  44.7s\n",
      "[CV] END max_depth=35, max_features=sqrt, min_samples_leaf=1, min_samples_split=3, n_estimators=478; total time=  40.5s\n",
      "[CV] END max_depth=35, max_features=sqrt, min_samples_leaf=1, min_samples_split=3, n_estimators=478; total time=  41.0s\n",
      "[CV] END max_depth=28, max_features=auto, min_samples_leaf=4, min_samples_split=5, n_estimators=310; total time=  50.9s\n",
      "[CV] END max_depth=28, max_features=auto, min_samples_leaf=4, min_samples_split=5, n_estimators=310; total time=  50.6s\n",
      "[CV] END max_depth=28, max_features=auto, min_samples_leaf=4, min_samples_split=5, n_estimators=310; total time=  51.9s\n",
      "[CV] END max_depth=25, max_features=auto, min_samples_leaf=1, min_samples_split=2, n_estimators=447; total time= 1.5min\n",
      "[CV] END max_depth=25, max_features=auto, min_samples_leaf=1, min_samples_split=2, n_estimators=447; total time= 1.6min\n",
      "[CV] END max_depth=25, max_features=auto, min_samples_leaf=1, min_samples_split=2, n_estimators=447; total time= 1.5min\n",
      "[CV] END max_depth=25, max_features=auto, min_samples_leaf=4, min_samples_split=5, n_estimators=457; total time= 1.3min\n",
      "[CV] END max_depth=25, max_features=auto, min_samples_leaf=4, min_samples_split=5, n_estimators=457; total time= 1.1min\n",
      "[CV] END max_depth=25, max_features=auto, min_samples_leaf=4, min_samples_split=5, n_estimators=457; total time= 1.2min\n",
      "[CV] END max_depth=25, max_features=auto, min_samples_leaf=1, min_samples_split=5, n_estimators=384; total time= 1.2min\n",
      "[CV] END max_depth=25, max_features=auto, min_samples_leaf=1, min_samples_split=5, n_estimators=384; total time= 1.2min\n",
      "[CV] END max_depth=25, max_features=auto, min_samples_leaf=1, min_samples_split=5, n_estimators=384; total time= 1.1min\n",
      "[CV] END max_depth=35, max_features=auto, min_samples_leaf=2, min_samples_split=3, n_estimators=426; total time= 1.4min\n",
      "[CV] END max_depth=35, max_features=auto, min_samples_leaf=2, min_samples_split=3, n_estimators=426; total time= 1.4min\n",
      "[CV] END max_depth=35, max_features=auto, min_samples_leaf=2, min_samples_split=3, n_estimators=426; total time= 1.4min\n",
      "[CV] END max_depth=21, max_features=sqrt, min_samples_leaf=1, min_samples_split=5, n_estimators=352; total time=  26.7s\n",
      "[CV] END max_depth=21, max_features=sqrt, min_samples_leaf=1, min_samples_split=5, n_estimators=352; total time=  26.6s\n",
      "[CV] END max_depth=21, max_features=sqrt, min_samples_leaf=1, min_samples_split=5, n_estimators=352; total time=  26.1s\n",
      "[CV] END max_depth=31, max_features=auto, min_samples_leaf=1, min_samples_split=2, n_estimators=300; total time= 1.0min\n",
      "[CV] END max_depth=31, max_features=auto, min_samples_leaf=1, min_samples_split=2, n_estimators=300; total time= 1.0min\n",
      "[CV] END max_depth=31, max_features=auto, min_samples_leaf=1, min_samples_split=2, n_estimators=300; total time=  58.6s\n",
      "[CV] END max_depth=None, max_features=sqrt, min_samples_leaf=2, min_samples_split=2, n_estimators=447; total time=  30.8s\n",
      "[CV] END max_depth=None, max_features=sqrt, min_samples_leaf=2, min_samples_split=2, n_estimators=447; total time=  30.1s\n",
      "[CV] END max_depth=None, max_features=sqrt, min_samples_leaf=2, min_samples_split=2, n_estimators=447; total time=  32.5s\n",
      "[CV] END max_depth=None, max_features=sqrt, min_samples_leaf=1, min_samples_split=3, n_estimators=373; total time=  31.1s\n",
      "[CV] END max_depth=None, max_features=sqrt, min_samples_leaf=1, min_samples_split=3, n_estimators=373; total time=  30.2s\n",
      "[CV] END max_depth=None, max_features=sqrt, min_samples_leaf=1, min_samples_split=3, n_estimators=373; total time=  32.4s\n",
      "[CV] END max_depth=18, max_features=auto, min_samples_leaf=1, min_samples_split=2, n_estimators=384; total time= 1.1min\n",
      "[CV] END max_depth=18, max_features=auto, min_samples_leaf=1, min_samples_split=2, n_estimators=384; total time= 1.0min\n",
      "[CV] END max_depth=18, max_features=auto, min_samples_leaf=1, min_samples_split=2, n_estimators=384; total time= 1.1min\n",
      "[CV] END max_depth=28, max_features=sqrt, min_samples_leaf=4, min_samples_split=3, n_estimators=300; total time=  18.1s\n",
      "[CV] END max_depth=28, max_features=sqrt, min_samples_leaf=4, min_samples_split=3, n_estimators=300; total time=  15.8s\n",
      "[CV] END max_depth=28, max_features=sqrt, min_samples_leaf=4, min_samples_split=3, n_estimators=300; total time=  15.6s\n",
      "[CV] END max_depth=21, max_features=auto, min_samples_leaf=2, min_samples_split=3, n_estimators=478; total time= 1.1min\n",
      "[CV] END max_depth=21, max_features=auto, min_samples_leaf=2, min_samples_split=3, n_estimators=478; total time= 1.1min\n",
      "[CV] END max_depth=21, max_features=auto, min_samples_leaf=2, min_samples_split=3, n_estimators=478; total time= 1.2min\n",
      "[CV] END max_depth=21, max_features=auto, min_samples_leaf=2, min_samples_split=2, n_estimators=310; total time=  49.7s\n",
      "[CV] END max_depth=21, max_features=auto, min_samples_leaf=2, min_samples_split=2, n_estimators=310; total time=  47.5s\n",
      "[CV] END max_depth=21, max_features=auto, min_samples_leaf=2, min_samples_split=2, n_estimators=310; total time=  42.9s\n",
      "[CV] END max_depth=18, max_features=auto, min_samples_leaf=4, min_samples_split=2, n_estimators=489; total time=  57.9s\n",
      "[CV] END max_depth=18, max_features=auto, min_samples_leaf=4, min_samples_split=2, n_estimators=489; total time= 1.0min\n",
      "[CV] END max_depth=18, max_features=auto, min_samples_leaf=4, min_samples_split=2, n_estimators=489; total time= 1.0min\n",
      "[CV] END max_depth=15, max_features=sqrt, min_samples_leaf=1, min_samples_split=5, n_estimators=500; total time=  30.7s\n",
      "[CV] END max_depth=15, max_features=sqrt, min_samples_leaf=1, min_samples_split=5, n_estimators=500; total time=  27.5s\n",
      "[CV] END max_depth=15, max_features=sqrt, min_samples_leaf=1, min_samples_split=5, n_estimators=500; total time=  29.6s\n",
      "[CV] END max_depth=15, max_features=sqrt, min_samples_leaf=4, min_samples_split=3, n_estimators=415; total time=  24.5s\n",
      "[CV] END max_depth=15, max_features=sqrt, min_samples_leaf=4, min_samples_split=3, n_estimators=415; total time=  23.5s\n",
      "[CV] END max_depth=15, max_features=sqrt, min_samples_leaf=4, min_samples_split=3, n_estimators=415; total time=  22.8s\n",
      "[CV] END max_depth=21, max_features=auto, min_samples_leaf=2, min_samples_split=5, n_estimators=489; total time= 1.3min\n",
      "[CV] END max_depth=21, max_features=auto, min_samples_leaf=2, min_samples_split=5, n_estimators=489; total time= 1.3min\n",
      "[CV] END max_depth=21, max_features=auto, min_samples_leaf=2, min_samples_split=5, n_estimators=489; total time= 1.2min\n",
      "[CV] END max_depth=21, max_features=sqrt, min_samples_leaf=1, min_samples_split=5, n_estimators=426; total time=  26.3s\n",
      "[CV] END max_depth=21, max_features=sqrt, min_samples_leaf=1, min_samples_split=5, n_estimators=426; total time=  28.1s\n",
      "[CV] END max_depth=21, max_features=sqrt, min_samples_leaf=1, min_samples_split=5, n_estimators=426; total time=  29.8s\n",
      "[CV] END max_depth=25, max_features=auto, min_samples_leaf=4, min_samples_split=3, n_estimators=310; total time=  50.7s\n",
      "[CV] END max_depth=25, max_features=auto, min_samples_leaf=4, min_samples_split=3, n_estimators=310; total time=  49.6s\n",
      "[CV] END max_depth=25, max_features=auto, min_samples_leaf=4, min_samples_split=3, n_estimators=310; total time=  50.2s\n",
      "[CV] END max_depth=25, max_features=sqrt, min_samples_leaf=1, min_samples_split=2, n_estimators=394; total time=  33.0s\n",
      "[CV] END max_depth=25, max_features=sqrt, min_samples_leaf=1, min_samples_split=2, n_estimators=394; total time=  32.9s\n"
     ]
    },
    {
     "name": "stdout",
     "output_type": "stream",
     "text": [
      "[CV] END max_depth=25, max_features=sqrt, min_samples_leaf=1, min_samples_split=2, n_estimators=394; total time=  33.1s\n",
      "[CV] END max_depth=35, max_features=sqrt, min_samples_leaf=1, min_samples_split=3, n_estimators=457; total time=  37.3s\n",
      "[CV] END max_depth=35, max_features=sqrt, min_samples_leaf=1, min_samples_split=3, n_estimators=457; total time=  36.0s\n",
      "[CV] END max_depth=35, max_features=sqrt, min_samples_leaf=1, min_samples_split=3, n_estimators=457; total time=  31.5s\n",
      "[CV] END max_depth=28, max_features=sqrt, min_samples_leaf=4, min_samples_split=3, n_estimators=489; total time=  32.0s\n",
      "[CV] END max_depth=28, max_features=sqrt, min_samples_leaf=4, min_samples_split=3, n_estimators=489; total time=  29.5s\n",
      "[CV] END max_depth=28, max_features=sqrt, min_samples_leaf=4, min_samples_split=3, n_estimators=489; total time=  29.3s\n",
      "[CV] END max_depth=28, max_features=auto, min_samples_leaf=2, min_samples_split=2, n_estimators=478; total time= 1.3min\n",
      "[CV] END max_depth=28, max_features=auto, min_samples_leaf=2, min_samples_split=2, n_estimators=478; total time= 1.2min\n",
      "[CV] END max_depth=28, max_features=auto, min_samples_leaf=2, min_samples_split=2, n_estimators=478; total time= 1.2min\n",
      "[CV] END max_depth=31, max_features=sqrt, min_samples_leaf=1, min_samples_split=3, n_estimators=321; total time=  20.6s\n",
      "[CV] END max_depth=31, max_features=sqrt, min_samples_leaf=1, min_samples_split=3, n_estimators=321; total time=  21.2s\n",
      "[CV] END max_depth=31, max_features=sqrt, min_samples_leaf=1, min_samples_split=3, n_estimators=321; total time=  21.7s\n",
      "[CV] END max_depth=21, max_features=sqrt, min_samples_leaf=2, min_samples_split=5, n_estimators=405; total time=  20.7s\n",
      "[CV] END max_depth=21, max_features=sqrt, min_samples_leaf=2, min_samples_split=5, n_estimators=405; total time=  20.8s\n",
      "[CV] END max_depth=21, max_features=sqrt, min_samples_leaf=2, min_samples_split=5, n_estimators=405; total time=  24.3s\n",
      "[CV] END max_depth=28, max_features=sqrt, min_samples_leaf=4, min_samples_split=2, n_estimators=426; total time=  23.2s\n",
      "[CV] END max_depth=28, max_features=sqrt, min_samples_leaf=4, min_samples_split=2, n_estimators=426; total time=  22.9s\n",
      "[CV] END max_depth=28, max_features=sqrt, min_samples_leaf=4, min_samples_split=2, n_estimators=426; total time=  26.7s\n",
      "[CV] END max_depth=31, max_features=auto, min_samples_leaf=2, min_samples_split=5, n_estimators=447; total time= 1.3min\n",
      "[CV] END max_depth=31, max_features=auto, min_samples_leaf=2, min_samples_split=5, n_estimators=447; total time= 1.3min\n",
      "[CV] END max_depth=31, max_features=auto, min_samples_leaf=2, min_samples_split=5, n_estimators=447; total time= 1.3min\n",
      "[CV] END max_depth=25, max_features=sqrt, min_samples_leaf=4, min_samples_split=5, n_estimators=394; total time=  25.5s\n",
      "[CV] END max_depth=25, max_features=sqrt, min_samples_leaf=4, min_samples_split=5, n_estimators=394; total time=  25.9s\n",
      "[CV] END max_depth=25, max_features=sqrt, min_samples_leaf=4, min_samples_split=5, n_estimators=394; total time=  26.1s\n",
      "[CV] END max_depth=28, max_features=auto, min_samples_leaf=4, min_samples_split=2, n_estimators=342; total time=  55.9s\n",
      "[CV] END max_depth=28, max_features=auto, min_samples_leaf=4, min_samples_split=2, n_estimators=342; total time=  46.2s\n",
      "[CV] END max_depth=28, max_features=auto, min_samples_leaf=4, min_samples_split=2, n_estimators=342; total time=  44.4s\n",
      "[CV] END max_depth=35, max_features=sqrt, min_samples_leaf=1, min_samples_split=3, n_estimators=426; total time=  32.7s\n",
      "[CV] END max_depth=35, max_features=sqrt, min_samples_leaf=1, min_samples_split=3, n_estimators=426; total time=  31.8s\n",
      "[CV] END max_depth=35, max_features=sqrt, min_samples_leaf=1, min_samples_split=3, n_estimators=426; total time=  29.4s\n",
      "[CV] END max_depth=None, max_features=auto, min_samples_leaf=1, min_samples_split=5, n_estimators=373; total time=  53.3s\n",
      "[CV] END max_depth=None, max_features=auto, min_samples_leaf=1, min_samples_split=5, n_estimators=373; total time= 1.1min\n",
      "[CV] END max_depth=None, max_features=auto, min_samples_leaf=1, min_samples_split=5, n_estimators=373; total time=  55.0s\n",
      "[CV] END max_depth=31, max_features=auto, min_samples_leaf=4, min_samples_split=3, n_estimators=426; total time=  54.1s\n",
      "[CV] END max_depth=31, max_features=auto, min_samples_leaf=4, min_samples_split=3, n_estimators=426; total time=  55.2s\n",
      "[CV] END max_depth=31, max_features=auto, min_samples_leaf=4, min_samples_split=3, n_estimators=426; total time=  53.5s\n",
      "[CV] END max_depth=21, max_features=auto, min_samples_leaf=4, min_samples_split=2, n_estimators=478; total time= 1.0min\n",
      "[CV] END max_depth=21, max_features=auto, min_samples_leaf=4, min_samples_split=2, n_estimators=478; total time= 1.0min\n",
      "[CV] END max_depth=21, max_features=auto, min_samples_leaf=4, min_samples_split=2, n_estimators=478; total time= 1.0min\n",
      "[CV] END max_depth=35, max_features=auto, min_samples_leaf=4, min_samples_split=2, n_estimators=500; total time= 1.1min\n",
      "[CV] END max_depth=35, max_features=auto, min_samples_leaf=4, min_samples_split=2, n_estimators=500; total time=  59.2s\n",
      "[CV] END max_depth=35, max_features=auto, min_samples_leaf=4, min_samples_split=2, n_estimators=500; total time= 1.1min\n",
      "[CV] END max_depth=15, max_features=auto, min_samples_leaf=4, min_samples_split=2, n_estimators=342; total time=  36.4s\n",
      "[CV] END max_depth=15, max_features=auto, min_samples_leaf=4, min_samples_split=2, n_estimators=342; total time=  36.2s\n",
      "[CV] END max_depth=15, max_features=auto, min_samples_leaf=4, min_samples_split=2, n_estimators=342; total time=  36.0s\n",
      "[CV] END max_depth=35, max_features=auto, min_samples_leaf=2, min_samples_split=5, n_estimators=457; total time=  59.5s\n",
      "[CV] END max_depth=35, max_features=auto, min_samples_leaf=2, min_samples_split=5, n_estimators=457; total time= 1.0min\n",
      "[CV] END max_depth=35, max_features=auto, min_samples_leaf=2, min_samples_split=5, n_estimators=457; total time= 1.0min\n",
      "[CV] END max_depth=None, max_features=sqrt, min_samples_leaf=2, min_samples_split=2, n_estimators=415; total time=  25.5s\n",
      "[CV] END max_depth=None, max_features=sqrt, min_samples_leaf=2, min_samples_split=2, n_estimators=415; total time=  23.6s\n",
      "[CV] END max_depth=None, max_features=sqrt, min_samples_leaf=2, min_samples_split=2, n_estimators=415; total time=  23.6s\n",
      "[CV] END max_depth=None, max_features=auto, min_samples_leaf=4, min_samples_split=3, n_estimators=394; total time=  47.8s\n",
      "[CV] END max_depth=None, max_features=auto, min_samples_leaf=4, min_samples_split=3, n_estimators=394; total time=  47.4s\n",
      "[CV] END max_depth=None, max_features=auto, min_samples_leaf=4, min_samples_split=3, n_estimators=394; total time=  49.0s\n",
      "[CV] END max_depth=28, max_features=auto, min_samples_leaf=1, min_samples_split=3, n_estimators=426; total time= 1.0min\n",
      "[CV] END max_depth=28, max_features=auto, min_samples_leaf=1, min_samples_split=3, n_estimators=426; total time= 1.1min\n",
      "[CV] END max_depth=28, max_features=auto, min_samples_leaf=1, min_samples_split=3, n_estimators=426; total time= 1.0min\n",
      "[CV] END max_depth=25, max_features=sqrt, min_samples_leaf=2, min_samples_split=2, n_estimators=310; total time=  18.5s\n",
      "[CV] END max_depth=25, max_features=sqrt, min_samples_leaf=2, min_samples_split=2, n_estimators=310; total time=  18.1s\n",
      "[CV] END max_depth=25, max_features=sqrt, min_samples_leaf=2, min_samples_split=2, n_estimators=310; total time=  19.0s\n",
      "[CV] END max_depth=35, max_features=sqrt, min_samples_leaf=1, min_samples_split=3, n_estimators=405; total time=  28.2s\n",
      "[CV] END max_depth=35, max_features=sqrt, min_samples_leaf=1, min_samples_split=3, n_estimators=405; total time=  31.9s\n",
      "[CV] END max_depth=35, max_features=sqrt, min_samples_leaf=1, min_samples_split=3, n_estimators=405; total time=  32.2s\n",
      "[CV] END max_depth=25, max_features=sqrt, min_samples_leaf=4, min_samples_split=3, n_estimators=352; total time=  21.0s\n",
      "[CV] END max_depth=25, max_features=sqrt, min_samples_leaf=4, min_samples_split=3, n_estimators=352; total time=  18.1s\n",
      "[CV] END max_depth=25, max_features=sqrt, min_samples_leaf=4, min_samples_split=3, n_estimators=352; total time=  16.8s\n",
      "[CV] END max_depth=31, max_features=sqrt, min_samples_leaf=1, min_samples_split=5, n_estimators=394; total time=  22.0s\n",
      "[CV] END max_depth=31, max_features=sqrt, min_samples_leaf=1, min_samples_split=5, n_estimators=394; total time=  23.8s\n"
     ]
    },
    {
     "name": "stdout",
     "output_type": "stream",
     "text": [
      "[CV] END max_depth=31, max_features=sqrt, min_samples_leaf=1, min_samples_split=5, n_estimators=394; total time=  23.9s\n",
      "[CV] END max_depth=31, max_features=auto, min_samples_leaf=1, min_samples_split=2, n_estimators=331; total time=  56.1s\n",
      "[CV] END max_depth=31, max_features=auto, min_samples_leaf=1, min_samples_split=2, n_estimators=331; total time=  51.2s\n",
      "[CV] END max_depth=31, max_features=auto, min_samples_leaf=1, min_samples_split=2, n_estimators=331; total time=  53.2s\n",
      "[CV] END max_depth=15, max_features=sqrt, min_samples_leaf=2, min_samples_split=5, n_estimators=468; total time=  20.4s\n",
      "[CV] END max_depth=15, max_features=sqrt, min_samples_leaf=2, min_samples_split=5, n_estimators=468; total time=  21.7s\n",
      "[CV] END max_depth=15, max_features=sqrt, min_samples_leaf=2, min_samples_split=5, n_estimators=468; total time=  24.5s\n",
      "[CV] END max_depth=None, max_features=auto, min_samples_leaf=4, min_samples_split=5, n_estimators=468; total time= 1.0min\n",
      "[CV] END max_depth=None, max_features=auto, min_samples_leaf=4, min_samples_split=5, n_estimators=468; total time=  58.4s\n",
      "[CV] END max_depth=None, max_features=auto, min_samples_leaf=4, min_samples_split=5, n_estimators=468; total time= 1.1min\n",
      "[CV] END max_depth=25, max_features=auto, min_samples_leaf=4, min_samples_split=2, n_estimators=436; total time=  57.6s\n",
      "[CV] END max_depth=25, max_features=auto, min_samples_leaf=4, min_samples_split=2, n_estimators=436; total time=  55.4s\n",
      "[CV] END max_depth=25, max_features=auto, min_samples_leaf=4, min_samples_split=2, n_estimators=436; total time=  57.9s\n"
     ]
    },
    {
     "data": {
      "text/plain": [
       "RandomizedSearchCV(cv=3,\n",
       "                   estimator=RandomForestRegressor(n_estimators=300, n_jobs=-1,\n",
       "                                                   random_state=42),\n",
       "                   n_iter=50,\n",
       "                   param_distributions={'max_depth': [15, 18, 21, 25, 28, 31,\n",
       "                                                      35, None],\n",
       "                                        'max_features': ['auto', 'sqrt'],\n",
       "                                        'min_samples_leaf': [1, 2, 4],\n",
       "                                        'min_samples_split': [2, 3, 5],\n",
       "                                        'n_estimators': [300, 310, 321, 331,\n",
       "                                                         342, 352, 363, 373,\n",
       "                                                         384, 394, 405, 415,\n",
       "                                                         426, 436, 447, 457,\n",
       "                                                         468, 478, 489, 500]},\n",
       "                   random_state=42, verbose=2)"
      ]
     },
     "execution_count": 37,
     "metadata": {},
     "output_type": "execute_result"
    }
   ],
   "source": [
    "\n",
    "rf_random = RandomizedSearchCV(estimator = random_model, param_distributions = random_grid, n_iter = 50, cv = 3, verbose=2, random_state=42)\n",
    "\n",
    "rf_random.fit(Xtrain, ytrain)"
   ]
  },
  {
   "cell_type": "code",
   "execution_count": 39,
   "metadata": {
    "colab": {
     "base_uri": "https://localhost:8080/"
    },
    "executionInfo": {
     "elapsed": 14,
     "status": "ok",
     "timestamp": 1624463584694,
     "user": {
      "displayName": "siddharth patra",
      "photoUrl": "https://lh3.googleusercontent.com/a-/AOh14Gjnwsdj5DKa95WHRl25dlQz9L1Bbc10vap4xTNIiA=s64",
      "userId": "01966341811263607507"
     },
     "user_tz": -330
    },
    "id": "qtSGS68bMhtJ",
    "outputId": "1f0c6e6f-7e4b-4b26-a63a-14aeb7ba500d"
   },
   "outputs": [
    {
     "data": {
      "text/plain": [
       "{'n_estimators': 457,\n",
       " 'min_samples_split': 3,\n",
       " 'min_samples_leaf': 1,\n",
       " 'max_features': 'sqrt',\n",
       " 'max_depth': 35}"
      ]
     },
     "execution_count": 39,
     "metadata": {},
     "output_type": "execute_result"
    }
   ],
   "source": [
    "rf_random.best_params_"
   ]
  },
  {
   "cell_type": "code",
   "execution_count": 40,
   "metadata": {
    "id": "6WOIaGF8eGuZ"
   },
   "outputs": [],
   "source": [
    "random_new = RandomForestRegressor(n_estimators = 394, min_samples_split = 2, min_samples_leaf = 1, max_features = 'sqrt',\n",
    "                                      max_depth = 25, bootstrap = True)"
   ]
  },
  {
   "cell_type": "code",
   "execution_count": 41,
   "metadata": {
    "colab": {
     "base_uri": "https://localhost:8080/"
    },
    "executionInfo": {
     "elapsed": 26080,
     "status": "ok",
     "timestamp": 1624463641706,
     "user": {
      "displayName": "siddharth patra",
      "photoUrl": "https://lh3.googleusercontent.com/a-/AOh14Gjnwsdj5DKa95WHRl25dlQz9L1Bbc10vap4xTNIiA=s64",
      "userId": "01966341811263607507"
     },
     "user_tz": -330
    },
    "id": "AxPHSZeSeUEZ",
    "outputId": "63116d0c-106e-4dc0-c226-49575d2c2805"
   },
   "outputs": [
    {
     "name": "stdout",
     "output_type": "stream",
     "text": [
      "95.16 %\n"
     ]
    }
   ],
   "source": [
    "\n",
    "random_new.fit(Xtrain, ytrain)\n",
    "\n",
    "y_pred1 = random_new.predict(Xtest)\n",
    "\n",
    "\n",
    "random_model_accuracy1 = round(random_new.score(Xtrain, ytrain)*100,2)\n",
    "print(round(random_model_accuracy1, 2), '%')"
   ]
  },
  {
   "cell_type": "code",
   "execution_count": 42,
   "metadata": {
    "colab": {
     "base_uri": "https://localhost:8080/"
    },
    "executionInfo": {
     "elapsed": 1393,
     "status": "ok",
     "timestamp": 1624463723323,
     "user": {
      "displayName": "siddharth patra",
      "photoUrl": "https://lh3.googleusercontent.com/a-/AOh14Gjnwsdj5DKa95WHRl25dlQz9L1Bbc10vap4xTNIiA=s64",
      "userId": "01966341811263607507"
     },
     "user_tz": -330
    },
    "id": "JCdRpS1dehw6",
    "outputId": "2a4179a5-48e5-4e67-925e-1df531a2367f"
   },
   "outputs": [
    {
     "name": "stdout",
     "output_type": "stream",
     "text": [
      "74.5 %\n"
     ]
    }
   ],
   "source": [
    "\n",
    "random_model_accuracy2 = round(random_new.score(Xtest, ytest)*100,2)\n",
    "print(round(random_model_accuracy2, 2), '%')"
   ]
  },
  {
   "cell_type": "markdown",
   "metadata": {},
   "source": [
    "### Issues With Saving The Model Seems To Be A Problem"
   ]
  },
  {
   "cell_type": "code",
   "execution_count": 44,
   "metadata": {
    "id": "mERn5dVVsKQq"
   },
   "outputs": [
    {
     "ename": "SyntaxError",
     "evalue": "(unicode error) 'unicodeescape' codec can't decode bytes in position 2-3: truncated \\UXXXXXXXX escape (Temp/ipykernel_14144/186126039.py, line 2)",
     "output_type": "error",
     "traceback": [
      "\u001b[1;36m  File \u001b[1;32m\"C:\\Users\\saad\\AppData\\Local\\Temp/ipykernel_14144/186126039.py\"\u001b[1;36m, line \u001b[1;32m2\u001b[0m\n\u001b[1;33m    saved_model = pickle.dump(random_new, open('C:\\Users\\saad\\Documents\\fire\\ForestModel.pickle','wb'))\u001b[0m\n\u001b[1;37m                                                                                                ^\u001b[0m\n\u001b[1;31mSyntaxError\u001b[0m\u001b[1;31m:\u001b[0m (unicode error) 'unicodeescape' codec can't decode bytes in position 2-3: truncated \\UXXXXXXXX escape\n"
     ]
    }
   ],
   "source": [
    "\n",
    "saved_model = pickle.dump(random_new, open('C:\\Users\\saad\\Documents\\fire\\ForestModel.pickle','wb'))\n",
    "  \n"
   ]
  },
  {
   "cell_type": "code",
   "execution_count": 45,
   "metadata": {
    "colab": {
     "base_uri": "https://localhost:8080/"
    },
    "executionInfo": {
     "elapsed": 7641,
     "status": "ok",
     "timestamp": 1624463981747,
     "user": {
      "displayName": "siddharth patra",
      "photoUrl": "https://lh3.googleusercontent.com/a-/AOh14Gjnwsdj5DKa95WHRl25dlQz9L1Bbc10vap4xTNIiA=s64",
      "userId": "01966341811263607507"
     },
     "user_tz": -330
    },
    "id": "UhI5_3yBZbMI",
    "outputId": "2e93b522-fbfd-404c-8df8-226b9550dc7a"
   },
   "outputs": [
    {
     "name": "stdout",
     "output_type": "stream",
     "text": [
      "Collecting bz2file\n",
      "  Downloading bz2file-0.98.tar.gz (11 kB)\n",
      "Using legacy 'setup.py install' for bz2file, since package 'wheel' is not installed.\n",
      "Installing collected packages: bz2file\n",
      "    Running setup.py install for bz2file: started\n",
      "    Running setup.py install for bz2file: finished with status 'done'\n",
      "Successfully installed bz2file-0.98\n",
      "Note: you may need to restart the kernel to use updated packages.\n"
     ]
    }
   ],
   "source": [
    "pip install bz2file"
   ]
  },
  {
   "cell_type": "code",
   "execution_count": null,
   "metadata": {
    "id": "DzxZCfNknswt"
   },
   "outputs": [],
   "source": [
    "# So I installed bz2file, which is used to compress data. This is a life saving package fpor those who have low spaces on\n",
    "# their disk but want to store or use large datasets. Now the pickled file was over 700 mb in size which when used bz2\n",
    "# compressed in into a file of size 93 mb."
   ]
  },
  {
   "cell_type": "code",
   "execution_count": 47,
   "metadata": {
    "id": "L_M3_tIXmz0t"
   },
   "outputs": [
    {
     "ename": "SyntaxError",
     "evalue": "(unicode error) 'unicodeescape' codec can't decode bytes in position 2-3: truncated \\UXXXXXXXX escape (Temp/ipykernel_14144/4145822860.py, line 4)",
     "output_type": "error",
     "traceback": [
      "\u001b[1;36m  File \u001b[1;32m\"C:\\Users\\saad\\AppData\\Local\\Temp/ipykernel_14144/4145822860.py\"\u001b[1;36m, line \u001b[1;32m4\u001b[0m\n\u001b[1;33m    source_file = 'C:\\Users\\saad\\Documents\\fire\\ForestModel.pickle' # this file can be in a different format, like .csv or others...\u001b[0m\n\u001b[1;37m                                                                    ^\u001b[0m\n\u001b[1;31mSyntaxError\u001b[0m\u001b[1;31m:\u001b[0m (unicode error) 'unicodeescape' codec can't decode bytes in position 2-3: truncated \\UXXXXXXXX escape\n"
     ]
    }
   ],
   "source": [
    "import bz2\n",
    "\n",
    "compressionLevel = 9\n",
    "source_file = 'C:\\Users\\saad\\Documents\\fire\\ForestModel.pickle' \n",
    "destination_file = 'drive/MyDrive/Dataset/Models/ForestModel.bz2'\n",
    "\n",
    "with open(source_file, 'rb') as data:\n",
    "    tarbz2contents = bz2.compress(data.read(), compressionLevel)\n",
    "    \n",
    "fh = open(destination_file, \"wb\")\n",
    "fh.write(tarbz2contents)\n",
    "fh.close()"
   ]
  },
  {
   "cell_type": "code",
   "execution_count": null,
   "metadata": {
    "id": "9v3aoc1xsZaQ"
   },
   "outputs": [],
   "source": []
  },
  {
   "cell_type": "code",
   "execution_count": null,
   "metadata": {
    "id": "9bfYx-pBZbx0"
   },
   "outputs": [],
   "source": []
  },
  {
   "cell_type": "code",
   "execution_count": null,
   "metadata": {
    "id": "rxdKm_c4Zb0n"
   },
   "outputs": [],
   "source": []
  }
 ],
 "metadata": {
  "colab": {
   "authorship_tag": "ABX9TyMZxmDvy2ypAS3vB1TCQEE1",
   "collapsed_sections": [],
   "name": "Forest Fires.ipynb",
   "provenance": []
  },
  "kernelspec": {
   "display_name": "Python 3 (ipykernel)",
   "language": "python",
   "name": "python3"
  },
  "language_info": {
   "codemirror_mode": {
    "name": "ipython",
    "version": 3
   },
   "file_extension": ".py",
   "mimetype": "text/x-python",
   "name": "python",
   "nbconvert_exporter": "python",
   "pygments_lexer": "ipython3",
   "version": "3.9.7"
  }
 },
 "nbformat": 4,
 "nbformat_minor": 1
}
